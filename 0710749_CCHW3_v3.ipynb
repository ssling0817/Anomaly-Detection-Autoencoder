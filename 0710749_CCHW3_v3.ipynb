{
  "cells": [
    {
      "cell_type": "code",
      "execution_count": 1,
      "metadata": {
        "id": "-hn3ACCIytQ0"
      },
      "outputs": [],
      "source": [
        "import os\n",
        "import csv\n",
        "import time\n",
        "import datetime\n",
        "import random\n",
        "import json\n",
        "\n",
        "import warnings\n",
        "from collections import Counter\n",
        "from math import sqrt\n",
        "\n",
        "import gensim\n",
        "import pandas as pd\n",
        "import numpy as np\n",
        "from sklearn.metrics import roc_auc_score, accuracy_score, precision_score, recall_score\n",
        "from sklearn.model_selection import train_test_split\n",
        "import torch"
      ]
    },
    {
      "cell_type": "markdown",
      "metadata": {
        "id": "Fal9kBQ34MYm"
      },
      "source": [
        "# Model"
      ]
    },
    {
      "cell_type": "code",
      "execution_count": 2,
      "metadata": {
        "id": "gdPw5o7v2RUu"
      },
      "outputs": [],
      "source": [
        "from torch import nn, Tensor\n",
        "class Encoder(nn.Module):\n",
        "  def __init__(self, seq_len, n_features, embedding_dim=64):\n",
        "    super(Encoder, self).__init__()\n",
        "    self.seq_len, self.n_features = seq_len, n_features\n",
        "    self.embedding_dim, self.hidden_dim = embedding_dim, 2 * embedding_dim\n",
        "    self.rnn1 = nn.LSTM(\n",
        "      input_size=n_features,\n",
        "      hidden_size=self.hidden_dim,\n",
        "      num_layers=1,\n",
        "      batch_first=True\n",
        "    )\n",
        "    self.rnn_temp = nn.LSTM(\n",
        "      input_size=self.hidden_dim,\n",
        "      hidden_size=self.hidden_dim,\n",
        "      num_layers=1,\n",
        "      batch_first=True\n",
        "    )\n",
        "    self.rnn2 = nn.LSTM(\n",
        "      input_size=self.hidden_dim,\n",
        "      hidden_size=embedding_dim,\n",
        "      num_layers=1,\n",
        "      batch_first=True\n",
        "    )\n",
        "    #self.LeakyRelu = nn.functional.leaky_relu(negative_slope=0.01, inplace=False)\n",
        "    self.fc = nn.Linear(embedding_dim, embedding_dim)\n",
        "  def forward(self, x):\n",
        "    x = x.reshape((1, self.seq_len, self.n_features))\n",
        "    x, (_, _) = self.rnn1(x)\n",
        "    #for A\n",
        "    #x, (hidden_n, _) = self.rnn_temp(x)\n",
        "    #x, (hidden_n, _) = self.rnn_temp(x)\n",
        "    \n",
        "    x, (hidden_n, _) = self.rnn2(x)\n",
        "    #forA\n",
        "    #x =  nn.functional.leaky_relu(self.fc(x), negative_slope=0.01, inplace=False)\n",
        "\n",
        "    return hidden_n.reshape((self.n_features, self.embedding_dim))\n",
        "\n",
        "\n",
        "class Decoder(nn.Module):\n",
        "  def __init__(self, seq_len, input_dim=64, n_features=1):\n",
        "    super(Decoder, self).__init__()\n",
        "    self.seq_len, self.input_dim = seq_len, input_dim\n",
        "    self.hidden_dim, self.n_features = 2 * input_dim, n_features\n",
        "    self.rnn1 = nn.LSTM(\n",
        "      input_size=input_dim,\n",
        "      hidden_size=input_dim,\n",
        "      num_layers=1,\n",
        "      batch_first=True\n",
        "    )\n",
        "    self.rnn2 = nn.LSTM(\n",
        "      input_size=input_dim,\n",
        "      hidden_size=self.hidden_dim,\n",
        "      num_layers=1,\n",
        "      batch_first=True\n",
        "    )\n",
        "    self.fc = nn.Linear(input_dim, input_dim)\n",
        "    #self.LeakyRelu = nn.functional.leaky_relu(negative_slope=0.01, inplace=False)\n",
        "    self.output_layer = nn.Linear(self.hidden_dim, n_features)\n",
        "  def forward(self, x):\n",
        "    #forA\n",
        "    #x =  nn.functional.leaky_relu(self.fc(x), negative_slope=0.01, inplace=False)\n",
        "\n",
        "    x = x.repeat(self.seq_len, self.n_features)\n",
        "    x = x.reshape((self.n_features, self.seq_len, self.input_dim))\n",
        "    x, (hidden_n, cell_n) = self.rnn1(x)\n",
        "    #forA\n",
        "    #x, (hidden_n, cell_n) = self.rnn1(x)\n",
        "    #x, (hidden_n, cell_n) = self.rnn1(x)\n",
        "    \n",
        "    x, (hidden_n, cell_n) = self.rnn2(x)\n",
        "    x = x.reshape((self.seq_len, self.hidden_dim))\n",
        "    return self.output_layer(x)"
      ]
    },
    {
      "cell_type": "code",
      "execution_count": 3,
      "metadata": {
        "id": "IDxQKT-J4OsN"
      },
      "outputs": [],
      "source": [
        "device = torch.device(\"cuda\" if torch.cuda.is_available() else \"cpu\")\n",
        "class RecurrentAutoencoder(nn.Module):\n",
        "  def __init__(self, seq_len, n_features, embedding_dim=64):\n",
        "    super(RecurrentAutoencoder, self).__init__()\n",
        "    self.encoder = Encoder(seq_len, n_features, embedding_dim).to(device)\n",
        "    self.decoder = Decoder(seq_len, embedding_dim, n_features).to(device)\n",
        "  def forward(self, x):\n",
        "    x = self.encoder(x)\n",
        "    x = self.decoder(x)\n",
        "    return x"
      ]
    },
    {
      "cell_type": "code",
      "execution_count": 4,
      "metadata": {
        "id": "lQxHS1Gu_S2k"
      },
      "outputs": [],
      "source": [
        "def split_list(l, n):\n",
        "  for idx in range(0, len(l), n):\n",
        "    yield l[idx:idx+n]"
      ]
    },
    {
      "cell_type": "code",
      "execution_count": 5,
      "metadata": {
        "id": "mtvy2jfDdB2U"
      },
      "outputs": [],
      "source": [
        "from torch import nn, Tensor\n",
        "class C_Encoder(nn.Module):\n",
        "  def __init__(self, seq_len, n_features, embedding_dim=64):\n",
        "    super(C_Encoder, self).__init__()\n",
        "    self.seq_len, self.n_features = seq_len, n_features\n",
        "    self.embedding_dim, self.hidden_dim = embedding_dim, 2 * embedding_dim\n",
        "    self.rnn1 = nn.LSTM(\n",
        "      input_size=n_features,\n",
        "      hidden_size=self.hidden_dim,\n",
        "      num_layers=1,\n",
        "      batch_first=True\n",
        "    )\n",
        "    self.rnn2 = nn.LSTM(\n",
        "      input_size=self.hidden_dim,\n",
        "      hidden_size=embedding_dim,\n",
        "      num_layers=1,\n",
        "      batch_first=True\n",
        "    )\n",
        "    #self.LeakyRelu = nn.functional.leaky_relu(negative_slope=0.01, inplace=False)\n",
        "    self.enc1 = nn.Conv1d(in_channels= 1, out_channels =32, kernel_size=7, padding=3, stride=2)\n",
        "    self.dropout = nn.Dropout(0.2)\n",
        "    self.enc2 = nn.Conv1d(in_channels= 32,out_channels =16, kernel_size=7, padding=3, stride=2)\n",
        "    self.fc = nn.Linear(embedding_dim, embedding_dim)\n",
        "  def forward(self, x):\n",
        "    x = x.reshape((1, self.n_features, self.seq_len))\n",
        "    x = self.enc1(x)\n",
        "    #print('after e1', x.size())\n",
        "    x = self.dropout(x)\n",
        "    x = self.enc2(x)\n",
        "    #print('after e2', x.size())\n",
        "    \n",
        "    return x#hidden_n.reshape((self.n_features, self.embedding_dim))\n",
        "\n",
        "\n",
        "class C_Decoder(nn.Module):\n",
        "  def __init__(self, seq_len, input_dim=64, n_features=1):\n",
        "    super(C_Decoder, self).__init__()\n",
        "    self.seq_len, self.input_dim = seq_len, input_dim\n",
        "    self.hidden_dim, self.n_features = 2 * input_dim, n_features\n",
        "    self.rnn1 = nn.LSTM(\n",
        "      input_size=input_dim,\n",
        "      hidden_size=input_dim,\n",
        "      num_layers=1,\n",
        "      batch_first=True\n",
        "    )\n",
        "    self.rnn2 = nn.LSTM(\n",
        "      input_size=input_dim,\n",
        "      hidden_size=self.hidden_dim,\n",
        "      num_layers=1,\n",
        "      batch_first=True\n",
        "    )\n",
        "    self.fc = nn.Linear(input_dim, input_dim)\n",
        "    self.dec1 = nn.ConvTranspose1d(in_channels= 16,out_channels =16, kernel_size=6, padding=2, stride=2)\n",
        "    self.dec2 = nn.ConvTranspose1d(in_channels= 16,out_channels =32, kernel_size=6, padding=2, stride=2)\n",
        "    self.dec3 = nn.ConvTranspose1d(in_channels= 32,out_channels =1, kernel_size=5, padding=2)\n",
        "    self.dropout = nn.Dropout(0.2)\n",
        "    #self.LeakyRelu = nn.functional.leaky_relu(negative_slope=0.01, inplace=False)\n",
        "    self.output_layer = nn.Linear(self.hidden_dim, n_features)\n",
        "  def forward(self, x):\n",
        "    #forA\n",
        "    #x =  nn.functional.leaky_relu(self.fc(x), negative_slope=0.01, inplace=False)\n",
        "\n",
        "    #x = x.repeat(self.seq_len, self.n_features)\n",
        "    #x = x.reshape((self.n_features, self.seq_len, self.input_dim))\n",
        "    x = self.dec1(x)\n",
        "    #print('after d1', x.size())\n",
        "    x = self.dropout(x)\n",
        "    x = self.dec2(x)\n",
        "    #print('after d2', x.size())\n",
        "    x = self.dec3(x)\n",
        "    #print('after d3', x.size())\n",
        "    return x#self.output_layer(x)\n",
        "\n",
        "device = torch.device(\"cuda\" if torch.cuda.is_available() else \"cpu\")\n",
        "class Autoencoder(nn.Module):\n",
        "  def __init__(self, seq_len, n_features, embedding_dim=64):\n",
        "    super(Autoencoder, self).__init__()\n",
        "    self.seq_len = seq_len\n",
        "    self.n_features = n_features\n",
        "    self.encoder = C_Encoder(seq_len, n_features, embedding_dim).to(device)\n",
        "    self.decoder = C_Decoder(seq_len, embedding_dim, n_features).to(device)\n",
        "  def forward(self, x):\n",
        "    x = self.encoder(x)\n",
        "    #print('after encoder', x.size())\n",
        "    x = self.decoder(x)\n",
        "    return x.reshape((self.seq_len))"
      ]
    },
    {
      "cell_type": "markdown",
      "metadata": {
        "id": "fY0_c6EL49jy"
      },
      "source": [
        "# Train"
      ]
    },
    {
      "cell_type": "code",
      "execution_count": 6,
      "metadata": {
        "id": "656BAycu42_8"
      },
      "outputs": [],
      "source": [
        "import copy\n",
        "def train_model(model, train_dataset, val_dataset, n_epochs, lr=1e-3):\n",
        "  optimizer = torch.optim.Adam(model.parameters(), lr=lr)\n",
        "  criterion = nn.L1Loss(reduction='sum').to(device)\n",
        "  scheduler = torch.optim.lr_scheduler.ReduceLROnPlateau(optimizer, mode='min', factor=0.5, patience=5, min_lr = 1e-5, verbose = True)\n",
        "  history = dict(train=[], val=[])\n",
        "  best_model_wts = copy.deepcopy(model.state_dict())\n",
        "  best_loss = 10000.0\n",
        "  for epoch in range(1, n_epochs + 1):\n",
        "    model = model.train()\n",
        "    train_losses = []\n",
        "    for seq_true in train_dataset:\n",
        "      optimizer.zero_grad()\n",
        "      seq_true = seq_true.to(device)\n",
        "      #print(seq_true.size())\n",
        "      seq_pred = model(seq_true)\n",
        "      #print(seq_pred.size())\n",
        "      loss = criterion(seq_pred.reshape((-1)), seq_true.reshape((-1)))\n",
        "      l1_lambda = 0.001\n",
        "      l1_norm = sum(p.abs().sum()\n",
        "                    for p in model.parameters())\n",
        "\n",
        "      #loss = loss + l1_lambda * l1_norm\n",
        "      loss.backward()\n",
        "      #torch.nn.utils.clip_grad_norm_(model.parameters(), 0.5)\n",
        "      optimizer.step()\n",
        "      train_losses.append(loss.item())\n",
        "    val_losses = []\n",
        "    model = model.eval()\n",
        "    with torch.no_grad():\n",
        "      for seq_true in val_dataset:\n",
        "        #print(seq_true.size())\n",
        "        seq_true = seq_true.to(device)\n",
        "        seq_pred = model(seq_true)\n",
        "        loss = criterion(seq_pred.reshape((-1)), seq_true.reshape((-1)))\n",
        "        l1_lambda = 0.001\n",
        "        l1_norm = sum(p.abs().sum()\n",
        "                      for p in model.parameters())\n",
        "\n",
        "        #loss = loss + l1_lambda * l1_norm\n",
        "        val_losses.append(loss.item())\n",
        "    train_loss = np.mean(train_losses)\n",
        "    val_loss = np.mean(val_losses)\n",
        "    scheduler.step(train_loss)\n",
        "    history['train'].append(train_loss)\n",
        "    history['val'].append(val_loss)\n",
        "    if val_loss < best_loss:\n",
        "      print('save')\n",
        "      best_loss = val_loss\n",
        "      best_model_wts = copy.deepcopy(model.state_dict())\n",
        "    print(f'Epoch {epoch}: train loss {train_loss} val loss {val_loss}')\n",
        "  model.load_state_dict(best_model_wts)\n",
        "  return model.eval(), history"
      ]
    },
    {
      "cell_type": "markdown",
      "metadata": {
        "id": "-mXQHoG1FqaY"
      },
      "source": [
        "# Test"
      ]
    },
    {
      "cell_type": "code",
      "execution_count": 7,
      "metadata": {
        "id": "0knVk7PTFt3n"
      },
      "outputs": [],
      "source": [
        "def test(model, test_dataset):\n",
        "    criterion = nn.L1Loss(reduction='sum').to(device)\n",
        "    val_losses = []\n",
        "    total_losses = []\n",
        "    model = model.eval()\n",
        "    with torch.no_grad():\n",
        "      for seq_true in test_dataset:\n",
        "        seq_true = seq_true.to(device)\n",
        "        seq_pred = model(seq_true)\n",
        "        size = len(test_dataset[0])\n",
        "        seq_pred = seq_pred.reshape((size))\n",
        "        seq_true = seq_true.reshape((size))\n",
        "        #print(seq_pred.size(), seq_true.size())\n",
        "        total_loss = criterion(seq_pred, seq_true)\n",
        "        total_losses.append(total_loss.item())\n",
        "        for idx, seq in enumerate(seq_true):\n",
        "          loss = criterion(seq_pred[idx], seq_true[idx])\n",
        "          val_losses.append(loss.item())\n",
        "    return val_losses, np.mean(total_losses)"
      ]
    },
    {
      "cell_type": "code",
      "execution_count": 8,
      "metadata": {
        "id": "oX_D-eNFB_E7"
      },
      "outputs": [],
      "source": [
        "def predict(model, dataset):\n",
        "  predictions, losses = [], []\n",
        "  criterion = nn.MSELoss()#L1Loss(reduction='sum').to(device)\n",
        "  with torch.no_grad():\n",
        "    model = model.eval()\n",
        "    for seq_true in dataset:\n",
        "      seq_true = seq_true.to(device)\n",
        "      seq_pred = model(seq_true)\n",
        "      size = len(dataset[0])\n",
        "      seq_pred = seq_pred.reshape((size))\n",
        "      seq_true = seq_true.reshape((size))\n",
        "      loss = criterion(seq_pred, seq_true)\n",
        "      predictions.append(seq_pred.cpu().numpy().flatten())\n",
        "      losses.append(loss.item())\n",
        "      #total_losses.append(total_loss.item())\n",
        "      # for idx, seq in enumerate(seq_true):\n",
        "      #   loss = criterion(seq_pred[idx], seq_true[idx])\n",
        "      #   losses.append(loss.item())\n",
        "  return predictions, losses"
      ]
    },
    {
      "cell_type": "markdown",
      "metadata": {
        "id": "0p_T4C-61ycJ"
      },
      "source": [
        "# PublicA"
      ]
    },
    {
      "cell_type": "code",
      "execution_count": null,
      "metadata": {
        "id": "ymIwbXfA_w-S"
      },
      "outputs": [],
      "source": [
        "def create_sequences_a(df, time_steps=100):\n",
        "    values = df.astype(np.float32).tolist()\n",
        "    output = []\n",
        "    for i in range(0, len(values) - time_steps + 1, 1):\n",
        "        output.append(values[i : (i + time_steps)])\n",
        "\n",
        "    return np.stack(output)"
      ]
    },
    {
      "cell_type": "code",
      "execution_count": null,
      "metadata": {
        "id": "kCjZDTFC2IOn"
      },
      "outputs": [],
      "source": [
        "def create_dataset_a(df):\n",
        "  \n",
        "  li = df.astype(np.float32).tolist()\n",
        "  split = list(split_list(li, 100))\n",
        "  dataset = [torch.tensor(s).unsqueeze(1).float() for s in split]\n",
        "  if(len(dataset[-1])!=100):\n",
        "    dataset.pop()\n",
        "  n_seq, seq_len, n_features = torch.stack(dataset).shape\n",
        "  return dataset, seq_len, n_features"
      ]
    },
    {
      "cell_type": "code",
      "execution_count": null,
      "metadata": {
        "id": "PjjsjuhKiYpk"
      },
      "outputs": [],
      "source": [
        "# from sklearn.preprocessing import MinMaxScaler\n",
        "# scaler = MinMaxScaler(feature_range=(0, 1))\n",
        "# scaler = scaler.fit(normal_data.reshape(-1, 1))\n",
        "# normal_data = scaler.transform(normal_data.reshape(-1, 1))\n",
        "# normal_data = normal_data.reshape((normal_data.shape[0]))\n"
      ]
    },
    {
      "cell_type": "code",
      "execution_count": null,
      "metadata": {
        "colab": {
          "base_uri": "https://localhost:8080/"
        },
        "id": "Estw0pnOxwzP",
        "outputId": "194b0953-31e8-4016-9a7a-6627be06e0a3"
      },
      "outputs": [
        {
          "name": "stdout",
          "output_type": "stream",
          "text": [
            "(2220, 100) (556, 100)\n"
          ]
        }
      ],
      "source": [
        "df_n = pd.read_csv('sensor_A_normal.csv')\n",
        "normal_data = df_n['telemetry'].tolist()\n",
        "normal_data = np.array(normal_data)\n",
        "normal_sequence = create_sequences_a(normal_data)\n",
        "train_dataset, val_dataset = train_test_split(\n",
        "  normal_sequence,\n",
        "  test_size=0.2, shuffle=True, random_state = 12\n",
        ")\n",
        "#train_dataset = create_sequences_a(train_df)\n",
        "#val_dataset= create_sequences_a(val_df)\n",
        "print(train_dataset.shape, val_dataset.shape)"
      ]
    },
    {
      "cell_type": "code",
      "execution_count": null,
      "metadata": {
        "id": "W5JIx--7h2HM"
      },
      "outputs": [],
      "source": [
        "from torch import nn, Tensor\n",
        "class AC_Encoder(nn.Module):\n",
        "  def __init__(self, seq_len, n_features, embedding_dim=64):\n",
        "    super(AC_Encoder, self).__init__()\n",
        "    self.seq_len, self.n_features = seq_len, n_features\n",
        "    self.embedding_dim, self.hidden_dim = embedding_dim, 2 * embedding_dim\n",
        "    self.rnn1 = nn.LSTM(\n",
        "      input_size=n_features,\n",
        "      hidden_size=self.hidden_dim,\n",
        "      num_layers=1,\n",
        "      batch_first=True\n",
        "    )\n",
        "    self.rnn2 = nn.LSTM(\n",
        "      input_size=self.hidden_dim,\n",
        "      hidden_size=embedding_dim,\n",
        "      num_layers=1,\n",
        "      batch_first=True\n",
        "    )\n",
        "    #self.LeakyRelu = nn.functional.leaky_relu(negative_slope=0.01, inplace=False)\n",
        "    self.enc1 = nn.Conv1d(in_channels= 1, out_channels =256, kernel_size=50, padding=0, stride=1)\n",
        "    self.dropout = nn.Dropout(0.2)\n",
        "    self.enc2 = nn.Conv1d(in_channels= 256,out_channels =128, kernel_size=50, padding=1, stride=2)\n",
        "    self.enctemp = nn.Conv1d(in_channels= 128,out_channels =128, kernel_size=25, padding=0, stride=2)\n",
        "    self.fc = nn.Linear(embedding_dim, embedding_dim)\n",
        "  def forward(self, x):\n",
        "    x = x.reshape((1, self.n_features, self.seq_len))\n",
        "    x = self.enc1(x)\n",
        "    #print('after e1', x.size())\n",
        "    x = self.dropout(x)\n",
        "    x = self.enc2(x)\n",
        "    #print('after e1', x.size())\n",
        "    x = self.enctemp(x)\n",
        "    #print('after et', x.size())\n",
        "    \n",
        "    return x#hidden_n.reshape((self.n_features, self.embedding_dim))\n",
        "\n",
        "\n",
        "class AC_Decoder(nn.Module):\n",
        "  def __init__(self, seq_len, input_dim=64, n_features=1):\n",
        "    super(AC_Decoder, self).__init__()\n",
        "    self.seq_len, self.input_dim = seq_len, input_dim\n",
        "    self.hidden_dim, self.n_features = 2 * input_dim, n_features\n",
        "    self.rnn1 = nn.LSTM(\n",
        "      input_size=input_dim,\n",
        "      hidden_size=input_dim,\n",
        "      num_layers=1,\n",
        "      batch_first=True\n",
        "    )\n",
        "    self.rnn2 = nn.LSTM(\n",
        "      input_size=input_dim,\n",
        "      hidden_size=self.hidden_dim,\n",
        "      num_layers=1,\n",
        "      batch_first=True\n",
        "    )\n",
        "    self.fc = nn.Linear(input_dim, input_dim)\n",
        "    self.dec1 = nn.ConvTranspose1d(in_channels= 128,out_channels =128, kernel_size=50, padding=2, stride=2)\n",
        "    self.dec2 = nn.ConvTranspose1d(in_channels= 128,out_channels =256, kernel_size=50, padding=1, stride=2)\n",
        "    self.dec3 = nn.ConvTranspose1d(in_channels= 256,out_channels =1, kernel_size=100, padding=0,)\n",
        "    self.dropout = nn.Dropout(0.2)\n",
        "    #self.LeakyRelu = nn.functional.leaky_relu(negative_slope=0.01, inplace=False)\n",
        "    self.output_layer = nn.Linear(self.hidden_dim, n_features)\n",
        "  def forward(self, x):\n",
        "    x = self.dec1(x)\n",
        "    #print('after d1', x.size())\n",
        "    x = self.dropout(x)\n",
        "    x = self.dec2(x)\n",
        "    #print('after d2', x.size())\n",
        "    x = self.dec3(x)\n",
        "    #print('after d3', x.size())\n",
        "    return x#self.output_layer(x)\n",
        "\n",
        "device = torch.device(\"cuda\" if torch.cuda.is_available() else \"cpu\")\n",
        "class A_Autoencoder(nn.Module):\n",
        "  def __init__(self, seq_len, n_features, embedding_dim=64):\n",
        "    super(A_Autoencoder, self).__init__()\n",
        "    self.seq_len = seq_len\n",
        "    self.n_features = n_features\n",
        "    self.encoder = AC_Encoder(seq_len, n_features, embedding_dim).to(device)\n",
        "    self.decoder = AC_Decoder(seq_len, embedding_dim, n_features).to(device)\n",
        "  def forward(self, x):\n",
        "    x = self.encoder(x)\n",
        "    #print('after encoder', x.size())\n",
        "    x = self.decoder(x)\n",
        "    return x.reshape((self.seq_len))"
      ]
    },
    {
      "cell_type": "code",
      "execution_count": null,
      "metadata": {
        "colab": {
          "base_uri": "https://localhost:8080/",
          "height": 363
        },
        "id": "Pb6kHHR64cUz",
        "outputId": "2fc9ff31-a128-45ce-e365-317474a081ef"
      },
      "outputs": [
        {
          "ename": "RuntimeError",
          "evalue": "ignored",
          "output_type": "error",
          "traceback": [
            "\u001b[0;31m---------------------------------------------------------------------------\u001b[0m",
            "\u001b[0;31mRuntimeError\u001b[0m                              Traceback (most recent call last)",
            "\u001b[0;32m<ipython-input-57-6882c95497fe>\u001b[0m in \u001b[0;36m<module>\u001b[0;34m()\u001b[0m\n\u001b[1;32m      5\u001b[0m     \u001b[0mtorch\u001b[0m\u001b[0;34m.\u001b[0m\u001b[0mtensor\u001b[0m\u001b[0;34m(\u001b[0m\u001b[0mtrain_dataset\u001b[0m\u001b[0;34m)\u001b[0m\u001b[0;34m.\u001b[0m\u001b[0mfloat\u001b[0m\u001b[0;34m(\u001b[0m\u001b[0;34m)\u001b[0m\u001b[0;34m,\u001b[0m\u001b[0;34m\u001b[0m\u001b[0;34m\u001b[0m\u001b[0m\n\u001b[1;32m      6\u001b[0m     \u001b[0mtorch\u001b[0m\u001b[0;34m.\u001b[0m\u001b[0mtensor\u001b[0m\u001b[0;34m(\u001b[0m\u001b[0mval_dataset\u001b[0m\u001b[0;34m)\u001b[0m\u001b[0;34m.\u001b[0m\u001b[0mfloat\u001b[0m\u001b[0;34m(\u001b[0m\u001b[0;34m)\u001b[0m\u001b[0;34m,\u001b[0m\u001b[0;34m\u001b[0m\u001b[0;34m\u001b[0m\u001b[0m\n\u001b[0;32m----> 7\u001b[0;31m     \u001b[0mn_epochs\u001b[0m\u001b[0;34m=\u001b[0m\u001b[0;36m400\u001b[0m\u001b[0;34m,\u001b[0m \u001b[0mlr\u001b[0m \u001b[0;34m=\u001b[0m \u001b[0;36m2.5\u001b[0m\u001b[0;34m*\u001b[0m\u001b[0;36m1e-4\u001b[0m\u001b[0;34m\u001b[0m\u001b[0;34m\u001b[0m\u001b[0m\n\u001b[0m\u001b[1;32m      8\u001b[0m )\n",
            "\u001b[0;32m<ipython-input-9-770031f04a67>\u001b[0m in \u001b[0;36mtrain_model\u001b[0;34m(model, train_dataset, val_dataset, n_epochs, lr)\u001b[0m\n\u001b[1;32m     14\u001b[0m       \u001b[0mseq_true\u001b[0m \u001b[0;34m=\u001b[0m \u001b[0mseq_true\u001b[0m\u001b[0;34m.\u001b[0m\u001b[0mto\u001b[0m\u001b[0;34m(\u001b[0m\u001b[0mdevice\u001b[0m\u001b[0;34m)\u001b[0m\u001b[0;34m\u001b[0m\u001b[0;34m\u001b[0m\u001b[0m\n\u001b[1;32m     15\u001b[0m       \u001b[0;31m#print(seq_true.size())\u001b[0m\u001b[0;34m\u001b[0m\u001b[0;34m\u001b[0m\u001b[0;34m\u001b[0m\u001b[0m\n\u001b[0;32m---> 16\u001b[0;31m       \u001b[0mseq_pred\u001b[0m \u001b[0;34m=\u001b[0m \u001b[0mmodel\u001b[0m\u001b[0;34m(\u001b[0m\u001b[0mseq_true\u001b[0m\u001b[0;34m)\u001b[0m\u001b[0;34m\u001b[0m\u001b[0;34m\u001b[0m\u001b[0m\n\u001b[0m\u001b[1;32m     17\u001b[0m       \u001b[0;31m#print(seq_pred.size())\u001b[0m\u001b[0;34m\u001b[0m\u001b[0;34m\u001b[0m\u001b[0;34m\u001b[0m\u001b[0m\n\u001b[1;32m     18\u001b[0m       \u001b[0mloss\u001b[0m \u001b[0;34m=\u001b[0m \u001b[0mcriterion\u001b[0m\u001b[0;34m(\u001b[0m\u001b[0mseq_pred\u001b[0m\u001b[0;34m.\u001b[0m\u001b[0mreshape\u001b[0m\u001b[0;34m(\u001b[0m\u001b[0;34m(\u001b[0m\u001b[0;34m-\u001b[0m\u001b[0;36m1\u001b[0m\u001b[0;34m)\u001b[0m\u001b[0;34m)\u001b[0m\u001b[0;34m,\u001b[0m \u001b[0mseq_true\u001b[0m\u001b[0;34m.\u001b[0m\u001b[0mreshape\u001b[0m\u001b[0;34m(\u001b[0m\u001b[0;34m(\u001b[0m\u001b[0;34m-\u001b[0m\u001b[0;36m1\u001b[0m\u001b[0;34m)\u001b[0m\u001b[0;34m)\u001b[0m\u001b[0;34m)\u001b[0m\u001b[0;34m\u001b[0m\u001b[0;34m\u001b[0m\u001b[0m\n",
            "\u001b[0;32m/usr/local/lib/python3.7/dist-packages/torch/nn/modules/module.py\u001b[0m in \u001b[0;36m_call_impl\u001b[0;34m(self, *input, **kwargs)\u001b[0m\n\u001b[1;32m   1108\u001b[0m         if not (self._backward_hooks or self._forward_hooks or self._forward_pre_hooks or _global_backward_hooks\n\u001b[1;32m   1109\u001b[0m                 or _global_forward_hooks or _global_forward_pre_hooks):\n\u001b[0;32m-> 1110\u001b[0;31m             \u001b[0;32mreturn\u001b[0m \u001b[0mforward_call\u001b[0m\u001b[0;34m(\u001b[0m\u001b[0;34m*\u001b[0m\u001b[0minput\u001b[0m\u001b[0;34m,\u001b[0m \u001b[0;34m**\u001b[0m\u001b[0mkwargs\u001b[0m\u001b[0;34m)\u001b[0m\u001b[0;34m\u001b[0m\u001b[0;34m\u001b[0m\u001b[0m\n\u001b[0m\u001b[1;32m   1111\u001b[0m         \u001b[0;31m# Do not call functions when jit is used\u001b[0m\u001b[0;34m\u001b[0m\u001b[0;34m\u001b[0m\u001b[0;34m\u001b[0m\u001b[0m\n\u001b[1;32m   1112\u001b[0m         \u001b[0mfull_backward_hooks\u001b[0m\u001b[0;34m,\u001b[0m \u001b[0mnon_full_backward_hooks\u001b[0m \u001b[0;34m=\u001b[0m \u001b[0;34m[\u001b[0m\u001b[0;34m]\u001b[0m\u001b[0;34m,\u001b[0m \u001b[0;34m[\u001b[0m\u001b[0;34m]\u001b[0m\u001b[0;34m\u001b[0m\u001b[0;34m\u001b[0m\u001b[0m\n",
            "\u001b[0;32m<ipython-input-56-eef79db26ec8>\u001b[0m in \u001b[0;36mforward\u001b[0;34m(self, x)\u001b[0m\n\u001b[1;32m     79\u001b[0m     \u001b[0mself\u001b[0m\u001b[0;34m.\u001b[0m\u001b[0mdecoder\u001b[0m \u001b[0;34m=\u001b[0m \u001b[0mAC_Decoder\u001b[0m\u001b[0;34m(\u001b[0m\u001b[0mseq_len\u001b[0m\u001b[0;34m,\u001b[0m \u001b[0membedding_dim\u001b[0m\u001b[0;34m,\u001b[0m \u001b[0mn_features\u001b[0m\u001b[0;34m)\u001b[0m\u001b[0;34m.\u001b[0m\u001b[0mto\u001b[0m\u001b[0;34m(\u001b[0m\u001b[0mdevice\u001b[0m\u001b[0;34m)\u001b[0m\u001b[0;34m\u001b[0m\u001b[0;34m\u001b[0m\u001b[0m\n\u001b[1;32m     80\u001b[0m   \u001b[0;32mdef\u001b[0m \u001b[0mforward\u001b[0m\u001b[0;34m(\u001b[0m\u001b[0mself\u001b[0m\u001b[0;34m,\u001b[0m \u001b[0mx\u001b[0m\u001b[0;34m)\u001b[0m\u001b[0;34m:\u001b[0m\u001b[0;34m\u001b[0m\u001b[0;34m\u001b[0m\u001b[0m\n\u001b[0;32m---> 81\u001b[0;31m     \u001b[0mx\u001b[0m \u001b[0;34m=\u001b[0m \u001b[0mself\u001b[0m\u001b[0;34m.\u001b[0m\u001b[0mencoder\u001b[0m\u001b[0;34m(\u001b[0m\u001b[0mx\u001b[0m\u001b[0;34m)\u001b[0m\u001b[0;34m\u001b[0m\u001b[0;34m\u001b[0m\u001b[0m\n\u001b[0m\u001b[1;32m     82\u001b[0m     \u001b[0;31m#print('after encoder', x.size())\u001b[0m\u001b[0;34m\u001b[0m\u001b[0;34m\u001b[0m\u001b[0;34m\u001b[0m\u001b[0m\n\u001b[1;32m     83\u001b[0m     \u001b[0mx\u001b[0m \u001b[0;34m=\u001b[0m \u001b[0mself\u001b[0m\u001b[0;34m.\u001b[0m\u001b[0mdecoder\u001b[0m\u001b[0;34m(\u001b[0m\u001b[0mx\u001b[0m\u001b[0;34m)\u001b[0m\u001b[0;34m\u001b[0m\u001b[0;34m\u001b[0m\u001b[0m\n",
            "\u001b[0;32m/usr/local/lib/python3.7/dist-packages/torch/nn/modules/module.py\u001b[0m in \u001b[0;36m_call_impl\u001b[0;34m(self, *input, **kwargs)\u001b[0m\n\u001b[1;32m   1108\u001b[0m         if not (self._backward_hooks or self._forward_hooks or self._forward_pre_hooks or _global_backward_hooks\n\u001b[1;32m   1109\u001b[0m                 or _global_forward_hooks or _global_forward_pre_hooks):\n\u001b[0;32m-> 1110\u001b[0;31m             \u001b[0;32mreturn\u001b[0m \u001b[0mforward_call\u001b[0m\u001b[0;34m(\u001b[0m\u001b[0;34m*\u001b[0m\u001b[0minput\u001b[0m\u001b[0;34m,\u001b[0m \u001b[0;34m**\u001b[0m\u001b[0mkwargs\u001b[0m\u001b[0;34m)\u001b[0m\u001b[0;34m\u001b[0m\u001b[0;34m\u001b[0m\u001b[0m\n\u001b[0m\u001b[1;32m   1111\u001b[0m         \u001b[0;31m# Do not call functions when jit is used\u001b[0m\u001b[0;34m\u001b[0m\u001b[0;34m\u001b[0m\u001b[0;34m\u001b[0m\u001b[0m\n\u001b[1;32m   1112\u001b[0m         \u001b[0mfull_backward_hooks\u001b[0m\u001b[0;34m,\u001b[0m \u001b[0mnon_full_backward_hooks\u001b[0m \u001b[0;34m=\u001b[0m \u001b[0;34m[\u001b[0m\u001b[0;34m]\u001b[0m\u001b[0;34m,\u001b[0m \u001b[0;34m[\u001b[0m\u001b[0;34m]\u001b[0m\u001b[0;34m\u001b[0m\u001b[0;34m\u001b[0m\u001b[0m\n",
            "\u001b[0;32m<ipython-input-56-eef79db26ec8>\u001b[0m in \u001b[0;36mforward\u001b[0;34m(self, x)\u001b[0m\n\u001b[1;32m     30\u001b[0m     \u001b[0mx\u001b[0m \u001b[0;34m=\u001b[0m \u001b[0mself\u001b[0m\u001b[0;34m.\u001b[0m\u001b[0menc2\u001b[0m\u001b[0;34m(\u001b[0m\u001b[0mx\u001b[0m\u001b[0;34m)\u001b[0m\u001b[0;34m\u001b[0m\u001b[0;34m\u001b[0m\u001b[0m\n\u001b[1;32m     31\u001b[0m     \u001b[0;31m#print('after e1', x.size())\u001b[0m\u001b[0;34m\u001b[0m\u001b[0;34m\u001b[0m\u001b[0;34m\u001b[0m\u001b[0m\n\u001b[0;32m---> 32\u001b[0;31m     \u001b[0mx\u001b[0m \u001b[0;34m=\u001b[0m \u001b[0mself\u001b[0m\u001b[0;34m.\u001b[0m\u001b[0menctemp\u001b[0m\u001b[0;34m(\u001b[0m\u001b[0mx\u001b[0m\u001b[0;34m)\u001b[0m\u001b[0;34m\u001b[0m\u001b[0;34m\u001b[0m\u001b[0m\n\u001b[0m\u001b[1;32m     33\u001b[0m     \u001b[0;31m#print('after et', x.size())\u001b[0m\u001b[0;34m\u001b[0m\u001b[0;34m\u001b[0m\u001b[0;34m\u001b[0m\u001b[0m\n\u001b[1;32m     34\u001b[0m \u001b[0;34m\u001b[0m\u001b[0m\n",
            "\u001b[0;32m/usr/local/lib/python3.7/dist-packages/torch/nn/modules/module.py\u001b[0m in \u001b[0;36m_call_impl\u001b[0;34m(self, *input, **kwargs)\u001b[0m\n\u001b[1;32m   1108\u001b[0m         if not (self._backward_hooks or self._forward_hooks or self._forward_pre_hooks or _global_backward_hooks\n\u001b[1;32m   1109\u001b[0m                 or _global_forward_hooks or _global_forward_pre_hooks):\n\u001b[0;32m-> 1110\u001b[0;31m             \u001b[0;32mreturn\u001b[0m \u001b[0mforward_call\u001b[0m\u001b[0;34m(\u001b[0m\u001b[0;34m*\u001b[0m\u001b[0minput\u001b[0m\u001b[0;34m,\u001b[0m \u001b[0;34m**\u001b[0m\u001b[0mkwargs\u001b[0m\u001b[0;34m)\u001b[0m\u001b[0;34m\u001b[0m\u001b[0;34m\u001b[0m\u001b[0m\n\u001b[0m\u001b[1;32m   1111\u001b[0m         \u001b[0;31m# Do not call functions when jit is used\u001b[0m\u001b[0;34m\u001b[0m\u001b[0;34m\u001b[0m\u001b[0;34m\u001b[0m\u001b[0m\n\u001b[1;32m   1112\u001b[0m         \u001b[0mfull_backward_hooks\u001b[0m\u001b[0;34m,\u001b[0m \u001b[0mnon_full_backward_hooks\u001b[0m \u001b[0;34m=\u001b[0m \u001b[0;34m[\u001b[0m\u001b[0;34m]\u001b[0m\u001b[0;34m,\u001b[0m \u001b[0;34m[\u001b[0m\u001b[0;34m]\u001b[0m\u001b[0;34m\u001b[0m\u001b[0;34m\u001b[0m\u001b[0m\n",
            "\u001b[0;32m/usr/local/lib/python3.7/dist-packages/torch/nn/modules/conv.py\u001b[0m in \u001b[0;36mforward\u001b[0;34m(self, input)\u001b[0m\n\u001b[1;32m    300\u001b[0m \u001b[0;34m\u001b[0m\u001b[0m\n\u001b[1;32m    301\u001b[0m     \u001b[0;32mdef\u001b[0m \u001b[0mforward\u001b[0m\u001b[0;34m(\u001b[0m\u001b[0mself\u001b[0m\u001b[0;34m,\u001b[0m \u001b[0minput\u001b[0m\u001b[0;34m:\u001b[0m \u001b[0mTensor\u001b[0m\u001b[0;34m)\u001b[0m \u001b[0;34m->\u001b[0m \u001b[0mTensor\u001b[0m\u001b[0;34m:\u001b[0m\u001b[0;34m\u001b[0m\u001b[0;34m\u001b[0m\u001b[0m\n\u001b[0;32m--> 302\u001b[0;31m         \u001b[0;32mreturn\u001b[0m \u001b[0mself\u001b[0m\u001b[0;34m.\u001b[0m\u001b[0m_conv_forward\u001b[0m\u001b[0;34m(\u001b[0m\u001b[0minput\u001b[0m\u001b[0;34m,\u001b[0m \u001b[0mself\u001b[0m\u001b[0;34m.\u001b[0m\u001b[0mweight\u001b[0m\u001b[0;34m,\u001b[0m \u001b[0mself\u001b[0m\u001b[0;34m.\u001b[0m\u001b[0mbias\u001b[0m\u001b[0;34m)\u001b[0m\u001b[0;34m\u001b[0m\u001b[0;34m\u001b[0m\u001b[0m\n\u001b[0m\u001b[1;32m    303\u001b[0m \u001b[0;34m\u001b[0m\u001b[0m\n\u001b[1;32m    304\u001b[0m \u001b[0;34m\u001b[0m\u001b[0m\n",
            "\u001b[0;32m/usr/local/lib/python3.7/dist-packages/torch/nn/modules/conv.py\u001b[0m in \u001b[0;36m_conv_forward\u001b[0;34m(self, input, weight, bias)\u001b[0m\n\u001b[1;32m    297\u001b[0m                             _single(0), self.dilation, self.groups)\n\u001b[1;32m    298\u001b[0m         return F.conv1d(input, weight, bias, self.stride,\n\u001b[0;32m--> 299\u001b[0;31m                         self.padding, self.dilation, self.groups)\n\u001b[0m\u001b[1;32m    300\u001b[0m \u001b[0;34m\u001b[0m\u001b[0m\n\u001b[1;32m    301\u001b[0m     \u001b[0;32mdef\u001b[0m \u001b[0mforward\u001b[0m\u001b[0;34m(\u001b[0m\u001b[0mself\u001b[0m\u001b[0;34m,\u001b[0m \u001b[0minput\u001b[0m\u001b[0;34m:\u001b[0m \u001b[0mTensor\u001b[0m\u001b[0;34m)\u001b[0m \u001b[0;34m->\u001b[0m \u001b[0mTensor\u001b[0m\u001b[0;34m:\u001b[0m\u001b[0;34m\u001b[0m\u001b[0;34m\u001b[0m\u001b[0m\n",
            "\u001b[0;31mRuntimeError\u001b[0m: Calculated padded input size per channel: (2). Kernel size: (25). Kernel size can't be greater than actual input size"
          ]
        }
      ],
      "source": [
        "model = A_Autoencoder(100, 1, 512)\n",
        "model = model.to(device)\n",
        "model, history = train_model(\n",
        "    model,\n",
        "    torch.tensor(train_dataset).float(),\n",
        "    torch.tensor(val_dataset).float(),\n",
        "    n_epochs=400, lr = 2.5*1e-4\n",
        ")"
      ]
    },
    {
      "cell_type": "code",
      "execution_count": null,
      "metadata": {
        "id": "mGl69OgpHj5J"
      },
      "outputs": [],
      "source": [
        "model, history = train_model(\n",
        "    model,\n",
        "    torch.tensor(train_dataset).float(),\n",
        "    torch.tensor(val_dataset).float(),\n",
        "    n_epochs=250, lr=5*1e-5\n",
        ")"
      ]
    },
    {
      "cell_type": "code",
      "execution_count": null,
      "metadata": {
        "id": "Gbp90qp8EdhS"
      },
      "outputs": [],
      "source": [
        "anomaly_df = pd.read_csv('sensor_A_public.csv')\n",
        "abnormal_data = anomaly_df['telemetry'].tolist()\n",
        "abnormal_label = anomaly_df['label'].tolist()\n",
        "abnormal_data = np.array(abnormal_data)\n",
        "\n",
        "test_anomaly_sequences = create_sequences_a(abnormal_data)\n",
        "test_anomaly_dataset, _, _ = create_dataset_a(abnormal_data)"
      ]
    },
    {
      "cell_type": "code",
      "execution_count": null,
      "metadata": {
        "colab": {
          "base_uri": "https://localhost:8080/",
          "height": 265
        },
        "id": "9PcZICuiTHh2",
        "outputId": "a5348ee5-718d-4482-f5da-bb9ca021808e"
      },
      "outputs": [
        {
          "data": {
            "image/png": "[encoded data removed]",
            "text/plain": [
              "<Figure size 432x288 with 1 Axes>"
            ]
          },
          "metadata": {
            "needs_background": "light"
          },
          "output_type": "display_data"
        }
      ],
      "source": [
        "from matplotlib import pyplot as plt\n",
        "fig, ax = plt.subplots()\n",
        "df_n.plot(legend=False, ax=ax)\n",
        "plt.show()"
      ]
    },
    {
      "cell_type": "code",
      "execution_count": null,
      "metadata": {
        "colab": {
          "base_uri": "https://localhost:8080/",
          "height": 265
        },
        "id": "5rPJAQAkFepU",
        "outputId": "c68ced30-497d-45ac-8223-062c45f9a4a8"
      },
      "outputs": [
        {
          "data": {
            "image/png": "[encoded data removed]",
            "text/plain": [
              "<Figure size 432x288 with 1 Axes>"
            ]
          },
          "metadata": {
            "needs_background": "light"
          },
          "output_type": "display_data"
        }
      ],
      "source": [
        "from matplotlib import pyplot as plt\n",
        "fig, ax = plt.subplots()\n",
        "anomaly_df.plot(legend=False, ax=ax)\n",
        "plt.show()"
      ]
    },
    {
      "cell_type": "code",
      "execution_count": null,
      "metadata": {
        "colab": {
          "base_uri": "https://localhost:8080/",
          "height": 296
        },
        "id": "0oXUWUWfFepW",
        "outputId": "bfd6041e-be84-470a-d2d1-1cb2a1fafc95"
      },
      "outputs": [
        {
          "data": {
            "image/png": "[encoded data removed]",
            "text/plain": [
              "<Figure size 432x288 with 1 Axes>"
            ]
          },
          "metadata": {
            "needs_background": "light"
          },
          "output_type": "display_data"
        },
        {
          "name": "stdout",
          "output_type": "stream",
          "text": [
            "Reconstruction error threshold:  0.019234449565410615\n"
          ]
        }
      ],
      "source": [
        "from matplotlib import pyplot as plt\n",
        "x_train_pred, losses = predict(model, torch.tensor(train_dataset).float())\n",
        "train_mae_loss = np.mean(np.abs(np.array(x_train_pred) - np.array(train_dataset)), axis=1)\n",
        "#train_mae_loss,_ = test(model, torch.tensor(train_dataset).float())\n",
        "plt.hist(train_mae_loss, bins=50)\n",
        "plt.xlabel(\"Train MAE loss\")\n",
        "plt.ylabel(\"No of samples\")\n",
        "plt.show()\n",
        "\n",
        "# Get reconstruction loss threshold.\n",
        "threshold = np.max(train_mae_loss)\n",
        "print(\"Reconstruction error threshold: \", threshold)"
      ]
    },
    {
      "cell_type": "code",
      "execution_count": null,
      "metadata": {
        "colab": {
          "base_uri": "https://localhost:8080/",
          "height": 265
        },
        "id": "tf7IQ9FET1aW",
        "outputId": "77fb6835-b481-4c37-92b5-a9c6b5f3112b"
      },
      "outputs": [
        {
          "data": {
            "image/png": "[encoded data removed]",
            "text/plain": [
              "<Figure size 432x288 with 1 Axes>"
            ]
          },
          "metadata": {
            "needs_background": "light"
          },
          "output_type": "display_data"
        }
      ],
      "source": [
        "index=100\n",
        "plt.plot(x_train_pred[index])\n",
        "plt.plot(train_dataset[index])\n",
        "plt.show()"
      ]
    },
    {
      "cell_type": "code",
      "execution_count": null,
      "metadata": {
        "colab": {
          "base_uri": "https://localhost:8080/",
          "height": 279
        },
        "id": "EAZVwh82FepX",
        "outputId": "59b47b24-ecc0-4676-ac74-b94eac46eaae"
      },
      "outputs": [
        {
          "data": {
            "image/png": "[encoded data removed]",
            "text/plain": [
              "<Figure size 432x288 with 1 Axes>"
            ]
          },
          "metadata": {
            "needs_background": "light"
          },
          "output_type": "display_data"
        }
      ],
      "source": [
        "\n",
        "x_test_pred, losses = predict(model,  torch.tensor(test_anomaly_sequences).float())\n",
        "test_mae_loss = np.mean(np.abs(np.array(x_test_pred) - np.array(test_anomaly_sequences)), axis=1)\n",
        "test_mae_loss = test_mae_loss.reshape((-1))\n",
        "#test_mae_loss,_ = test(model, torch.tensor(test_anomaly_dataset).float())\n",
        "plt.hist(test_mae_loss, bins=50)\n",
        "plt.xlabel(\"Test MAE loss\")\n",
        "plt.ylabel(\"No of samples\")\n",
        "plt.show()"
      ]
    },
    {
      "cell_type": "code",
      "execution_count": null,
      "metadata": {
        "colab": {
          "base_uri": "https://localhost:8080/",
          "height": 282
        },
        "id": "gtsNa5MCFepW",
        "outputId": "895fc4f8-43bf-4170-b2fe-c368ed096370"
      },
      "outputs": [
        {
          "data": {
            "image/png": "[encoded data removed]",
            "text/plain": [
              "<Figure size 432x288 with 1 Axes>"
            ]
          },
          "metadata": {
            "needs_background": "light"
          },
          "output_type": "display_data"
        },
        {
          "name": "stdout",
          "output_type": "stream",
          "text": [
            "0.810754120349884 0.8637782\n"
          ]
        }
      ],
      "source": [
        "index=10\n",
        "plt.plot(test_anomaly_sequences[index])\n",
        "plt.plot(x_test_pred[index])\n",
        "plt.show()\n",
        "print(max(test_anomaly_sequences[index]), max(x_test_pred[index]))"
      ]
    },
    {
      "cell_type": "code",
      "execution_count": null,
      "metadata": {
        "id": "sSWcRts0KKIf"
      },
      "outputs": [],
      "source": [
        "torch.save(model, 'modelA_0515_1.pth')"
      ]
    },
    {
      "cell_type": "code",
      "execution_count": null,
      "metadata": {
        "id": "KCF2qAZT_9wh"
      },
      "outputs": [],
      "source": [
        "modelA_orig = torch.load('modelA.pth')\n",
        "modelA_orig = modelA_orig.to(device)\n",
        "# _, total_loss = test(modelA_orig, val_dataset)\n",
        "# total_loss"
      ]
    },
    {
      "cell_type": "code",
      "execution_count": null,
      "metadata": {
        "colab": {
          "base_uri": "https://localhost:8080/"
        },
        "id": "_Y33ZRQ-HOF0",
        "outputId": "9c52080b-584b-4230-c2fd-d01b43f83488"
      },
      "outputs": [
        {
          "data": {
            "text/plain": [
              "4000"
            ]
          },
          "execution_count": 26,
          "metadata": {},
          "output_type": "execute_result"
        }
      ],
      "source": [
        "test_anomaly_dataset, _, _ = create_dataset_a(abnormal_data)\n",
        "publica, _ = test(\n",
        "  model,\n",
        "  test_anomaly_dataset\n",
        ")\n",
        "len(publica)\n"
      ]
    },
    {
      "cell_type": "code",
      "execution_count": null,
      "metadata": {
        "colab": {
          "base_uri": "https://localhost:8080/",
          "height": 320
        },
        "id": "ARH15_NkCLah",
        "outputId": "639fbb96-cfad-46a1-d638-f748bf5238ab"
      },
      "outputs": [
        {
          "name": "stderr",
          "output_type": "stream",
          "text": [
            "/usr/local/lib/python3.7/dist-packages/seaborn/distributions.py:2619: FutureWarning: `distplot` is a deprecated function and will be removed in a future version. Please adapt your code to use either `displot` (a figure-level function with similar flexibility) or `histplot` (an axes-level function for histograms).\n",
            "  warnings.warn(msg, FutureWarning)\n"
          ]
        },
        {
          "data": {
            "image/png": "[encoded data removed]",
            "text/plain": [
              "<Figure size 432x288 with 1 Axes>"
            ]
          },
          "metadata": {
            "needs_background": "light"
          },
          "output_type": "display_data"
        }
      ],
      "source": [
        "import seaborn as sns\n",
        "#_, normal_losses = predict(modelA_orig, train_dataset)\n",
        "normal_losses, _ = test(model,  torch.tensor(train_dataset).float())\n",
        "sns.distplot(normal_losses, bins=50, kde=True);"
      ]
    },
    {
      "cell_type": "code",
      "execution_count": null,
      "metadata": {
        "colab": {
          "base_uri": "https://localhost:8080/",
          "height": 320
        },
        "id": "kXCqle5iwrAs",
        "outputId": "6f9f2941-dd72-4089-bc9f-6bd9e896afbf"
      },
      "outputs": [
        {
          "name": "stderr",
          "output_type": "stream",
          "text": [
            "/usr/local/lib/python3.7/dist-packages/seaborn/distributions.py:2619: FutureWarning: `distplot` is a deprecated function and will be removed in a future version. Please adapt your code to use either `displot` (a figure-level function with similar flexibility) or `histplot` (an axes-level function for histograms).\n",
            "  warnings.warn(msg, FutureWarning)\n"
          ]
        },
        {
          "data": {
            "image/png": "[encoded data removed]",
            "text/plain": [
              "<Figure size 432x288 with 1 Axes>"
            ]
          },
          "metadata": {
            "needs_background": "light"
          },
          "output_type": "display_data"
        }
      ],
      "source": [
        "#_, losses = predict(model, torch.tensor(test_anomaly_sequences).float())\n",
        "losses, _ = test(model,  test_anomaly_dataset)\n",
        "sns.distplot(losses, bins=50, kde=True);"
      ]
    },
    {
      "cell_type": "code",
      "execution_count": null,
      "metadata": {
        "id": "fnqW4J6AvVLT"
      },
      "outputs": [],
      "source": [
        "threshold=0.06"
      ]
    },
    {
      "cell_type": "code",
      "execution_count": null,
      "metadata": {
        "id": "kbrZ0SQJrGzF"
      },
      "outputs": [],
      "source": [
        "publica_binary =[int(l > threshold) for l in publica]"
      ]
    },
    {
      "cell_type": "code",
      "execution_count": null,
      "metadata": {
        "colab": {
          "base_uri": "https://localhost:8080/"
        },
        "id": "4ZCvZWI8xOrN",
        "outputId": "2d6cfe5a-6fd8-4116-e3be-6998c36cf1e2"
      },
      "outputs": [
        {
          "data": {
            "text/plain": [
              "1292"
            ]
          },
          "execution_count": 31,
          "metadata": {},
          "output_type": "execute_result"
        }
      ],
      "source": [
        "publica_binary.count(1)"
      ]
    },
    {
      "cell_type": "code",
      "execution_count": null,
      "metadata": {
        "colab": {
          "base_uri": "https://localhost:8080/"
        },
        "id": "a5JS18DtpqjY",
        "outputId": "49d0cfe6-f378-4fd2-f6bd-553f6f2574e7"
      },
      "outputs": [],
      "source": [
        "import sklearn\n",
        "sklearn.metrics.roc_auc_score(abnormal_label, publica_binary)"
      ]
    },
    {
      "cell_type": "markdown",
      "metadata": {
        "id": "aGpmVhFVLyVh"
      },
      "source": [
        "# PrivateA"
      ]
    },
    {
      "cell_type": "code",
      "execution_count": null,
      "metadata": {
        "id": "Gr2KQc69MBln"
      },
      "outputs": [],
      "source": [
        "anomaly_df = pd.read_csv('sensor_A_private.csv')\n",
        "abnormal_data = anomaly_df['telemetry'].tolist()\n",
        "abnormal_data = np.array(abnormal_data)\n",
        "\n",
        "test_anomaly_dataset, _, _ = create_dataset_a(abnormal_data)"
      ]
    },
    {
      "cell_type": "code",
      "execution_count": null,
      "metadata": {
        "colab": {
          "base_uri": "https://localhost:8080/"
        },
        "id": "NoLPRigzL-mC",
        "outputId": "5bda9b5b-5057-4c1d-da07-bb87db5fa5db"
      },
      "outputs": [
        {
          "data": {
            "text/plain": [
              "4000"
            ]
          },
          "execution_count": 109,
          "metadata": {},
          "output_type": "execute_result"
        }
      ],
      "source": [
        "privatea, _ = test(\n",
        "  model,\n",
        "  test_anomaly_dataset\n",
        ")\n",
        "len(privatea)"
      ]
    },
    {
      "cell_type": "code",
      "execution_count": null,
      "metadata": {
        "colab": {
          "base_uri": "https://localhost:8080/",
          "height": 265
        },
        "id": "2P4fLrsDT-2B",
        "outputId": "df2e913c-812d-43ad-c236-e2828cb651a3"
      },
      "outputs": [
        {
          "data": {
            "image/png": "[encoded data removed]",
            "text/plain": [
              "<Figure size 432x288 with 1 Axes>"
            ]
          },
          "metadata": {
            "needs_background": "light"
          },
          "output_type": "display_data"
        }
      ],
      "source": [
        "from matplotlib import pyplot as plt\n",
        "fig, ax = plt.subplots()\n",
        "anomaly_df.plot(legend=False, ax=ax)\n",
        "plt.show()"
      ]
    },
    {
      "cell_type": "code",
      "execution_count": null,
      "metadata": {
        "colab": {
          "base_uri": "https://localhost:8080/",
          "height": 320
        },
        "id": "ECVHhgnLAyUd",
        "outputId": "0a869924-6fcd-4511-9cdc-e95104b2bdbd"
      },
      "outputs": [
        {
          "name": "stderr",
          "output_type": "stream",
          "text": [
            "/usr/local/lib/python3.7/dist-packages/seaborn/distributions.py:2619: FutureWarning: `distplot` is a deprecated function and will be removed in a future version. Please adapt your code to use either `displot` (a figure-level function with similar flexibility) or `histplot` (an axes-level function for histograms).\n",
            "  warnings.warn(msg, FutureWarning)\n"
          ]
        },
        {
          "data": {
            "image/png": "[encoded data removed]",
            "text/plain": [
              "<Figure size 432x288 with 1 Axes>"
            ]
          },
          "metadata": {
            "needs_background": "light"
          },
          "output_type": "display_data"
        }
      ],
      "source": [
        "sns.distplot(privatea, bins=50, kde=True);"
      ]
    },
    {
      "cell_type": "markdown",
      "metadata": {
        "id": "bWl2YKVuNW4o"
      },
      "source": [
        "# PublicB"
      ]
    },
    {
      "cell_type": "code",
      "execution_count": 9,
      "metadata": {
        "id": "CvuK1pn1u-GJ"
      },
      "outputs": [],
      "source": [
        "from torch import nn, Tensor\n",
        "class BC_Encoder(nn.Module):\n",
        "  def __init__(self, seq_len, n_features, embedding_dim=64):\n",
        "    super(BC_Encoder, self).__init__()\n",
        "    self.seq_len, self.n_features = seq_len, n_features\n",
        "    self.embedding_dim, self.hidden_dim = embedding_dim, 2 * embedding_dim\n",
        "    self.rnn1 = nn.LSTM(\n",
        "      input_size=n_features,\n",
        "      hidden_size=self.hidden_dim,\n",
        "      num_layers=1,\n",
        "      batch_first=True\n",
        "    )\n",
        "    self.rnn2 = nn.LSTM(\n",
        "      input_size=self.hidden_dim,\n",
        "      hidden_size=embedding_dim,\n",
        "      num_layers=1,\n",
        "      batch_first=True\n",
        "    )\n",
        "    #self.LeakyRelu = nn.functional.leaky_relu(negative_slope=0.01, inplace=False)\n",
        "    self.enc1 = nn.Conv1d(in_channels= 1, out_channels =256, kernel_size=101, padding=0, stride=1)\n",
        "    self.dropout = nn.Dropout(0.2)\n",
        "    self.enc2 = nn.Conv1d(in_channels= 256,out_channels =128, kernel_size=51, padding=0, stride=1)\n",
        "    self.enctemp = nn.Conv1d(in_channels= 128,out_channels =128, kernel_size=26, padding=0, stride=1)\n",
        "    self.fc = nn.Linear(embedding_dim, embedding_dim)\n",
        "  def forward(self, x):\n",
        "    x = x.reshape((1, self.n_features, self.seq_len))\n",
        "    x = self.enc1(x)\n",
        "    #print('after e1', x.size())\n",
        "    x = self.dropout(x)\n",
        "    x = self.enc2(x)\n",
        "    #print('after e1', x.size())\n",
        "    x = self.enctemp(x)\n",
        "    #print('after et', x.size())\n",
        "    \n",
        "    return x#hidden_n.reshape((self.n_features, self.embedding_dim))\n",
        "\n",
        "\n",
        "class BC_Decoder(nn.Module):\n",
        "  def __init__(self, seq_len, input_dim=64, n_features=1):\n",
        "    super(BC_Decoder, self).__init__()\n",
        "    self.seq_len, self.input_dim = seq_len, input_dim\n",
        "    self.hidden_dim, self.n_features = 2 * input_dim, n_features\n",
        "    self.rnn1 = nn.LSTM(\n",
        "      input_size=input_dim,\n",
        "      hidden_size=input_dim,\n",
        "      num_layers=1,\n",
        "      batch_first=True\n",
        "    )\n",
        "    self.rnn2 = nn.LSTM(\n",
        "      input_size=input_dim,\n",
        "      hidden_size=self.hidden_dim,\n",
        "      num_layers=1,\n",
        "      batch_first=True\n",
        "    )\n",
        "    self.fc = nn.Linear(input_dim, input_dim)\n",
        "    self.dec1 = nn.ConvTranspose1d(in_channels= 128,out_channels =128, kernel_size=26, padding=0, stride=1)\n",
        "    self.dec2 = nn.ConvTranspose1d(in_channels= 128,out_channels =256, kernel_size=51, padding=0, stride=1)\n",
        "    self.dec3 = nn.ConvTranspose1d(in_channels= 256,out_channels =1, kernel_size=101, padding=0,)\n",
        "    self.dropout = nn.Dropout(0.2)\n",
        "    #self.LeakyRelu = nn.functional.leaky_relu(negative_slope=0.01, inplace=False)\n",
        "    self.output_layer = nn.Linear(self.hidden_dim, n_features)\n",
        "  def forward(self, x):\n",
        "    x = self.dec1(x)\n",
        "    #print('after d1', x.size())\n",
        "    x = self.dropout(x)\n",
        "    x = self.dec2(x)\n",
        "    #print('after d2', x.size())\n",
        "    x = self.dec3(x)\n",
        "    #print('after d3', x.size())\n",
        "    return x#self.output_layer(x)\n",
        "\n",
        "device = torch.device(\"cuda\" if torch.cuda.is_available() else \"cpu\")\n",
        "class B_Autoencoder(nn.Module):\n",
        "  def __init__(self, seq_len, n_features, embedding_dim=64):\n",
        "    super(B_Autoencoder, self).__init__()\n",
        "    self.seq_len = seq_len\n",
        "    self.n_features = n_features\n",
        "    self.encoder = BC_Encoder(seq_len, n_features, embedding_dim).to(device)\n",
        "    self.decoder = BC_Decoder(seq_len, embedding_dim, n_features).to(device)\n",
        "  def forward(self, x):\n",
        "    x = self.encoder(x)\n",
        "    #print('after encoder', x.size())\n",
        "    x = self.decoder(x)\n",
        "    return x.reshape((self.seq_len))"
      ]
    },
    {
      "cell_type": "code",
      "execution_count": 10,
      "metadata": {
        "id": "NvpCeYYlCNNI"
      },
      "outputs": [],
      "source": [
        "def create_sequences_b(df, time_steps=200):\n",
        "    values = df.astype(np.float32).tolist()\n",
        "    output = []\n",
        "    for i in range(0, len(values) - time_steps + 1, 1):\n",
        "        output.append(values[i : (i + time_steps)])\n",
        "    return np.stack(output)"
      ]
    },
    {
      "cell_type": "code",
      "execution_count": 11,
      "metadata": {
        "id": "j69UrYTEvq3A"
      },
      "outputs": [],
      "source": [
        "def create_dataset_b(df):\n",
        "  \n",
        "  li = df.astype(np.float32).tolist()\n",
        "  split = list(split_list(li, 200))\n",
        "  dataset = [torch.tensor(s).unsqueeze(1).float() for s in split]\n",
        "  if(len(dataset[-1])!=200):\n",
        "    dataset.pop()\n",
        "  n_seq, seq_len, n_features = torch.stack(dataset).shape\n",
        "  return dataset, seq_len, n_features"
      ]
    },
    {
      "cell_type": "code",
      "execution_count": 12,
      "metadata": {
        "id": "geKOHBpINrd6"
      },
      "outputs": [],
      "source": [
        "df_n = pd.read_csv('sensor_B_normal.csv')\n",
        "normal_data = df_n['telemetry'].tolist()\n",
        "normal_data = np.array(normal_data)\n",
        "normal_dataset = create_sequences_b(normal_data)\n",
        "train_dataset, val_dataset = train_test_split(\n",
        "  normal_dataset,\n",
        "  test_size=0.1, shuffle=True, random_state = 8\n",
        ")"
      ]
    },
    {
      "cell_type": "code",
      "execution_count": 46,
      "metadata": {
        "id": "yG9TWVAnDAhG"
      },
      "outputs": [],
      "source": [
        "import copy\n",
        "def train_model(model, train_dataset, val_dataset, n_epochs, lr = 1e-3):\n",
        "  optimizer = torch.optim.Adam(model.parameters(), lr=lr)\n",
        "  scheduler = torch.optim.lr_scheduler.ReduceLROnPlateau(optimizer, mode='min', factor=0.5, patience=5, min_lr = 1e-6, verbose = True)\n",
        "  criterion = nn.L1Loss(reduction='sum').to(device)\n",
        "  history = dict(train=[], val=[])\n",
        "  best_model_wts = copy.deepcopy(model.state_dict())\n",
        "  best_loss = 10000.0\n",
        "  for epoch in range(1, n_epochs + 1):\n",
        "    model = model.train()\n",
        "    train_losses = []\n",
        "    for seq_true in train_dataset:\n",
        "      optimizer.zero_grad()\n",
        "      seq_true = seq_true.to(device)\n",
        "      seq_pred = model(seq_true)\n",
        "      #print(seq_true.size(), seq_pred.size())\n",
        "      loss = criterion(seq_pred, seq_true)\n",
        "      # l1_lambda = 0.05\n",
        "      # l1_norm = sum(p.abs().sum()\n",
        "      #               for p in model.parameters())\n",
        "\n",
        "      # loss = loss + l1_lambda * l1_norm\n",
        "      loss.backward()\n",
        "      #torch.nn.utils.clip_grad_norm_(model.parameters(), 0.5)\n",
        "      optimizer.step()\n",
        "      train_losses.append(loss.item())\n",
        "    \n",
        "    val_losses = []\n",
        "    model = model.eval()\n",
        "    with torch.no_grad():\n",
        "      for seq_true in val_dataset:\n",
        "        \n",
        "        seq_true = seq_true.to(device)\n",
        "        seq_pred = model(seq_true)\n",
        "        loss = criterion(seq_pred, seq_true)\n",
        "        # l1_lambda = 0.05\n",
        "        # l1_norm = sum(p.abs().sum()\n",
        "        #               for p in model.parameters())\n",
        "\n",
        "        # loss = loss + l1_lambda * l1_norm\n",
        "        val_losses.append(loss.item())\n",
        "    train_loss = np.mean(train_losses)\n",
        "    val_loss = np.mean(val_losses)\n",
        "    scheduler.step(train_loss)\n",
        "    history['train'].append(train_loss)\n",
        "    history['val'].append(val_loss)\n",
        "    if val_loss < best_loss:\n",
        "      print('save')\n",
        "      best_loss = val_loss\n",
        "      best_model_wts = copy.deepcopy(model.state_dict())\n",
        "    print(f'Epoch {epoch}: train loss {train_loss} val loss {val_loss}')\n",
        "  model.load_state_dict(best_model_wts)\n",
        "  return model.eval(), history"
      ]
    },
    {
      "cell_type": "code",
      "execution_count": null,
      "metadata": {
        "colab": {
          "base_uri": "https://localhost:8080/"
        },
        "id": "fRMZ5AaPN5qV",
        "outputId": "32deec8e-9edb-409d-c9da-9f51866b3095"
      },
      "outputs": [
        {
          "name": "stdout",
          "output_type": "stream",
          "text": [
            "save\n",
            "Epoch 1: train loss 39.05305416162693 val loss 28.2181146393961\n",
            "save\n",
            "Epoch 2: train loss 24.689132713032365 val loss 20.004904344900332\n",
            "save\n",
            "Epoch 3: train loss 20.758602683212057 val loss 18.94466566683641\n",
            "save\n",
            "Epoch 4: train loss 18.677289799394824 val loss 16.546144257730514\n",
            "save\n",
            "Epoch 5: train loss 17.248590664060597 val loss 13.85986624546905\n",
            "save\n",
            "Epoch 6: train loss 16.181268948576804 val loss 13.27470729244289\n",
            "save\n",
            "Epoch 7: train loss 15.316625951977134 val loss 12.49052248428117\n",
            "save\n",
            "Epoch 8: train loss 14.457646343366024 val loss 11.924230632497304\n",
            "save\n",
            "Epoch 9: train loss 13.827696373953392 val loss 11.657823204994202\n",
            "save\n",
            "Epoch 10: train loss 13.28391774627622 val loss 11.048930895862295\n",
            "save\n",
            "Epoch 11: train loss 12.738035957035057 val loss 10.686792161927295\n",
            "save\n",
            "Epoch 12: train loss 12.400242012404602 val loss 10.077512550709853\n",
            "save\n",
            "Epoch 13: train loss 12.06554648663051 val loss 9.977135218791108\n",
            "save\n",
            "Epoch 14: train loss 11.75840802737928 val loss 8.970233803364769\n",
            "save\n",
            "Epoch 15: train loss 11.452794015729749 val loss 8.83224811304861\n",
            "Epoch 16: train loss 11.26921429366431 val loss 9.362376407011231\n",
            "Epoch 17: train loss 10.975302061965213 val loss 9.674874727405719\n",
            "save\n",
            "Epoch 18: train loss 10.78173017719927 val loss 8.700688280276399\n",
            "save\n",
            "Epoch 19: train loss 10.573134254764867 val loss 8.440221170880902\n",
            "save\n",
            "Epoch 20: train loss 10.421325478385244 val loss 8.071704869839683\n",
            "Epoch 21: train loss 10.246239712134221 val loss 8.327830188309969\n",
            "save\n",
            "Epoch 22: train loss 10.124451691792066 val loss 7.913619938181408\n",
            "save\n",
            "Epoch 23: train loss 9.945008423026039 val loss 7.88578615615617\n",
            "save\n",
            "Epoch 24: train loss 9.865807025100485 val loss 7.40590140712795\n",
            "Epoch 25: train loss 9.647101581914509 val loss 7.97940874989353\n",
            "save\n",
            "Epoch 26: train loss 9.64918547271443 val loss 6.934905351097904\n",
            "Epoch 27: train loss 9.558922563620268 val loss 7.641459134087634\n",
            "Epoch 28: train loss 9.379387619193032 val loss 8.072086844871293\n",
            "Epoch 29: train loss 9.337810080958503 val loss 7.532951088093999\n",
            "save\n",
            "Epoch 30: train loss 9.230256868152262 val loss 6.752112874344213\n",
            "save\n",
            "Epoch 31: train loss 9.12661989949597 val loss 6.679226946474901\n",
            "Epoch 32: train loss 8.993432369747678 val loss 6.8192341647931\n",
            "Epoch 33: train loss 9.00464351221826 val loss 6.736186692963785\n",
            "save\n",
            "Epoch 34: train loss 8.846850715407214 val loss 6.427487544159391\n",
            "Epoch 35: train loss 8.830762365702036 val loss 6.617382839544495\n",
            "save\n",
            "Epoch 36: train loss 8.809806246370883 val loss 6.1347415945423185\n",
            "Epoch 37: train loss 8.724097512814211 val loss 6.885820801578351\n",
            "Epoch 38: train loss 8.602358248823645 val loss 6.419790625572205\n",
            "Epoch 39: train loss 8.579670082258831 val loss 6.401370381241414\n",
            "save\n",
            "Epoch 40: train loss 8.55689397681032 val loss 6.06617364598744\n",
            "Epoch 41: train loss 8.468661338623745 val loss 6.203039032309802\n",
            "Epoch 42: train loss 8.489840264627691 val loss 6.213894536246115\n",
            "save\n",
            "Epoch 43: train loss 8.405426565475622 val loss 5.876117967847568\n",
            "Epoch 44: train loss 8.310626732832182 val loss 6.733191038245585\n",
            "Epoch 45: train loss 8.358027729026492 val loss 6.692011626798715\n",
            "Epoch 46: train loss 8.223993007160274 val loss 6.130545048571345\n",
            "save\n",
            "Epoch 47: train loss 8.262010455181098 val loss 5.822776394993512\n",
            "Epoch 48: train loss 8.182414679616503 val loss 6.253519784158735\n",
            "save\n",
            "Epoch 49: train loss 8.226650617722415 val loss 5.753991072747245\n",
            "Epoch 50: train loss 8.025420979204396 val loss 6.100986384633762\n",
            "Epoch 51: train loss 8.086471462844564 val loss 6.585173571287696\n",
            "Epoch 52: train loss 8.06485501069289 val loss 6.02459325986122\n",
            "Epoch 53: train loss 7.9401717538893095 val loss 6.530114150758999\n",
            "Epoch 54: train loss 8.061462053191885 val loss 5.823312933765241\n",
            "Epoch 55: train loss 7.908985648680625 val loss 5.978927188844823\n",
            "save\n",
            "Epoch 56: train loss 7.8999285190368145 val loss 5.584227226563354\n",
            "Epoch 57: train loss 7.9224622732388505 val loss 6.233306058307193\n",
            "save\n",
            "Epoch 58: train loss 7.839670658309841 val loss 5.339698231042321\n",
            "Epoch 59: train loss 7.8514148912409985 val loss 5.610825814417939\n",
            "Epoch 60: train loss 8.119734486918935 val loss 5.554555607375814\n",
            "Epoch 61: train loss 7.760320269491469 val loss 6.850931164044053\n",
            "Epoch 62: train loss 7.753425015828218 val loss 5.4075906036505055\n",
            "Epoch 63: train loss 7.86030370252296 val loss 5.799203963422063\n",
            "Epoch 64: train loss 7.726134146771659 val loss 5.7077587415922935\n",
            "Epoch 65: train loss 7.740160165457617 val loss 5.481116500363421\n",
            "Epoch 66: train loss 7.7921739136107 val loss 6.245025832261613\n",
            "Epoch 67: train loss 7.715453205981026 val loss 5.970963403360168\n",
            "Epoch 68: train loss 7.726515711865654 val loss 5.512100265986883\n",
            "save\n",
            "Epoch 69: train loss 7.6085173063615255 val loss 5.1470530219932105\n",
            "Epoch 70: train loss 7.684632193868721 val loss 5.474102750642976\n",
            "Epoch 71: train loss 7.675701522034072 val loss 6.600592379249743\n",
            "Epoch 72: train loss 7.691476347243216 val loss 6.325138849108966\n",
            "save\n",
            "Epoch 73: train loss 7.698740295362572 val loss 4.915714368001739\n",
            "Epoch 74: train loss 7.614124562983205 val loss 6.0531840849278575\n",
            "Epoch 75: train loss 7.587958803791514 val loss 5.461363310244546\n",
            "Epoch 76: train loss 7.555784454861203 val loss 5.91547845993469\n",
            "Epoch 77: train loss 7.591806695069692 val loss 5.868657976833742\n",
            "Epoch 78: train loss 7.612515921800895 val loss 5.286562569995425\n",
            "Epoch 79: train loss 7.5699682729407805 val loss 5.004427233738686\n",
            "Epoch 80: train loss 7.543560820161181 val loss 5.268071865857537\n",
            "save\n",
            "Epoch 81: train loss 7.531682673710052 val loss 4.877679791023482\n",
            "Epoch 82: train loss 7.506437045670348 val loss 5.422924023065994\n",
            "Epoch 83: train loss 7.570420647460557 val loss 5.69968858227801\n",
            "Epoch 84: train loss 7.500122550916771 val loss 5.157661514495736\n",
            "Epoch 85: train loss 7.49299623168184 val loss 5.187150596682705\n",
            "Epoch 86: train loss 7.517645346548354 val loss 5.5436688047736435\n",
            "Epoch 87: train loss 7.473813765361254 val loss 5.195423701805855\n",
            "Epoch 88: train loss 7.508207022573744 val loss 5.553951666426303\n",
            "Epoch 89: train loss 7.47452371026275 val loss 5.1238796426289115\n",
            "Epoch 90: train loss 7.494136876722879 val loss 5.9076013831949945\n",
            "Epoch 91: train loss 7.5103587047473805 val loss 5.28854403389034\n",
            "Epoch 92: train loss 7.390379842254575 val loss 5.472979384571759\n",
            "Epoch 93: train loss 7.459301461201943 val loss 6.809878857278112\n",
            "Epoch 94: train loss 7.435349930348862 val loss 6.072350920136295\n",
            "Epoch 95: train loss 7.449151835967003 val loss 5.579360501090092\n",
            "Epoch 96: train loss 7.491094335052427 val loss 5.083598089751913\n",
            "Epoch 97: train loss 7.438663588739978 val loss 4.91767718187019\n",
            "Epoch 00098: reducing learning rate of group 0 to 5.0000e-05.\n",
            "Epoch 98: train loss 7.461379371809612 val loss 5.490000562881356\n",
            "save\n",
            "Epoch 99: train loss 5.902402218662032 val loss 3.48090992222971\n",
            "save\n",
            "Epoch 100: train loss 5.889696409598209 val loss 3.4115896322833956\n",
            "save\n",
            "Epoch 101: train loss 5.877481395340759 val loss 3.2498879334819852\n",
            "save\n",
            "Epoch 102: train loss 5.834521934842369 val loss 3.2399047203918\n",
            "Epoch 103: train loss 5.83116208589994 val loss 3.649130881722294\n",
            "save\n",
            "Epoch 104: train loss 5.820736461468893 val loss 3.2344476780784666\n",
            "Epoch 105: train loss 5.807366405653607 val loss 3.2800573208438815\n",
            "save\n",
            "Epoch 106: train loss 5.808904075820828 val loss 3.079015569010777\n",
            "Epoch 107: train loss 5.761087692403496 val loss 3.422984711269834\n",
            "Epoch 108: train loss 5.776010159990148 val loss 3.2927579568393193\n",
            "Epoch 109: train loss 5.7196223308539444 val loss 3.2371736382370564\n",
            "save\n",
            "Epoch 110: train loss 5.726551416559675 val loss 2.9188006253384833\n",
            "Epoch 111: train loss 5.735672648780807 val loss 3.30249820449459\n",
            "Epoch 112: train loss 5.715605591339777 val loss 3.268289460175073\n",
            "Epoch 113: train loss 5.696704362088083 val loss 3.448132853899429\n",
            "Epoch 114: train loss 5.706539730222706 val loss 3.049607292929692\n",
            "Epoch 115: train loss 5.677380636080387 val loss 3.195512518953921\n",
            "Epoch 116: train loss 5.684098988808614 val loss 3.192126159347705\n",
            "save\n",
            "Epoch 117: train loss 5.668266774116088 val loss 2.893157209923018\n",
            "Epoch 118: train loss 5.649231004219293 val loss 3.270518144564842\n",
            "Epoch 119: train loss 5.646150424921587 val loss 3.1385467995458574\n",
            "Epoch 120: train loss 5.649439971808832 val loss 3.397130308756188\n",
            "Epoch 121: train loss 5.650765265744342 val loss 3.1280011788233004\n",
            "Epoch 122: train loss 5.643662271479807 val loss 3.649706845852866\n"
          ]
        }
      ],
      "source": [
        "modelB = B_Autoencoder(200, 1, 128)\n",
        "modelB = modelB.to(device)\n",
        "modelB, history = train_model(\n",
        "  modelB,\n",
        "  torch.tensor(train_dataset).float(),\n",
        "  torch.tensor(val_dataset).float(),\n",
        "  n_epochs=200, lr=1e-4\n",
        ")\n"
      ]
    },
    {
      "cell_type": "code",
      "execution_count": null,
      "metadata": {
        "id": "iPllTwBpndSf"
      },
      "outputs": [],
      "source": [
        "modelB, history = train_model(\n",
        "  modelB,\n",
        "  torch.tensor(train_dataset).float(),\n",
        "  torch.tensor(val_dataset).float(),\n",
        "  n_epochs=200, lr=5*1e-5\n",
        ")\n"
      ]
    },
    {
      "cell_type": "code",
      "execution_count": null,
      "metadata": {
        "id": "LnapsHFJKNue"
      },
      "outputs": [],
      "source": [
        "torch.save(modelB, 'modelB_0511.pth')"
      ]
    },
    {
      "cell_type": "code",
      "execution_count": null,
      "metadata": {
        "id": "EiFoB5LKBI6P"
      },
      "outputs": [],
      "source": [
        "modelB_orig = torch.load('modelB.pth')\n",
        "modelB_orig = modelB_orig.to(device)\n",
        "# _, loss = test(modelB_orig, val_dataset)\n",
        "# loss"
      ]
    },
    {
      "cell_type": "code",
      "execution_count": 33,
      "metadata": {
        "id": "fbtgqVRja4XU"
      },
      "outputs": [],
      "source": [
        "anomaly_df = pd.read_csv('sensor_B_public.csv')\n",
        "abnormal_data = anomaly_df['telemary_value'].tolist()\n",
        "abnormal_label = anomaly_df['label'].tolist()\n",
        "abnormal_data = np.array(abnormal_data)\n",
        "\n",
        "test_anomaly_dataset = create_sequences_b(abnormal_data)"
      ]
    },
    {
      "cell_type": "code",
      "execution_count": 34,
      "metadata": {
        "colab": {
          "base_uri": "https://localhost:8080/"
        },
        "id": "YzMM-Gfs5TkE",
        "outputId": "371c5546-92da-4695-c53f-e3be83a181a9"
      },
      "outputs": [
        {
          "data": {
            "text/plain": [
              "4000"
            ]
          },
          "execution_count": 34,
          "metadata": {},
          "output_type": "execute_result"
        }
      ],
      "source": [
        "test_output_dataset,_, _ = create_dataset_b(abnormal_data)\n",
        "publicb, _ = test(\n",
        "  modelB,\n",
        "  test_output_dataset\n",
        ")\n",
        "len(publicb)"
      ]
    },
    {
      "cell_type": "code",
      "execution_count": null,
      "metadata": {
        "colab": {
          "base_uri": "https://localhost:8080/",
          "height": 265
        },
        "id": "OAFfolqhnoDf",
        "outputId": "6f16c4a5-ff3a-42f1-c8e8-32b45efd8015"
      },
      "outputs": [
        {
          "data": {
            "image/png": "[encoded data removed]",
            "text/plain": [
              "<Figure size 432x288 with 1 Axes>"
            ]
          },
          "metadata": {
            "needs_background": "light"
          },
          "output_type": "display_data"
        }
      ],
      "source": [
        "from matplotlib import pyplot as plt\n",
        "fig, ax = plt.subplots()\n",
        "anomaly_df.plot(legend=False, ax=ax)\n",
        "plt.show()"
      ]
    },
    {
      "cell_type": "code",
      "execution_count": 27,
      "metadata": {
        "colab": {
          "base_uri": "https://localhost:8080/",
          "height": 296
        },
        "id": "gYpb_a_Ro0ZC",
        "outputId": "96082755-b467-4dd1-ae59-5c1d9c7f21eb"
      },
      "outputs": [
        {
          "data": {
            "image/png": "[encoded data removed]",
            "text/plain": [
              "<Figure size 432x288 with 1 Axes>"
            ]
          },
          "metadata": {
            "needs_background": "light"
          },
          "output_type": "display_data"
        },
        {
          "name": "stdout",
          "output_type": "stream",
          "text": [
            "Reconstruction error threshold:  0.0096\n"
          ]
        }
      ],
      "source": [
        "from matplotlib import pyplot as plt\n",
        "x_train_pred, losses = predict(modelB, torch.tensor(train_dataset).float())\n",
        "train_mae_loss = np.mean(np.abs(np.array(x_train_pred) - np.array(train_dataset)), axis=1)\n",
        "#train_mae_loss,_ = test(modelB, torch.tensor(train_dataset).float())\n",
        "plt.hist(train_mae_loss, bins=50)\n",
        "plt.xlabel(\"Train MAE loss\")\n",
        "plt.ylabel(\"No of samples\")\n",
        "plt.show()\n",
        "\n",
        "# Get reconstruction loss threshold.\n",
        "threshold = np.max(train_mae_loss)\n",
        "threshold = 0.0096\n",
        "print(\"Reconstruction error threshold: \", threshold)"
      ]
    },
    {
      "cell_type": "code",
      "execution_count": 28,
      "metadata": {
        "colab": {
          "base_uri": "https://localhost:8080/",
          "height": 267
        },
        "id": "3-C112Jz4ABw",
        "outputId": "c76edd9f-692f-4589-ade9-5b9ce5339c75"
      },
      "outputs": [
        {
          "data": {
            "image/png": "[encoded data removed]",
            "text/plain": [
              "<Figure size 432x288 with 1 Axes>"
            ]
          },
          "metadata": {
            "needs_background": "light"
          },
          "output_type": "display_data"
        }
      ],
      "source": [
        "plt.plot(train_dataset[3])\n",
        "plt.plot(x_train_pred[3])\n",
        "plt.show()"
      ]
    },
    {
      "cell_type": "code",
      "execution_count": 29,
      "metadata": {
        "colab": {
          "base_uri": "https://localhost:8080/",
          "height": 279
        },
        "id": "oDQIgtufrmau",
        "outputId": "ccb964fe-d037-4c8b-8ade-a7357faa14fa"
      },
      "outputs": [
        {
          "data": {
            "image/png": "[encoded data removed]",
            "text/plain": [
              "<Figure size 432x288 with 1 Axes>"
            ]
          },
          "metadata": {
            "needs_background": "light"
          },
          "output_type": "display_data"
        }
      ],
      "source": [
        "\n",
        "x_test_pred, losses = predict(modelB,  torch.tensor(test_anomaly_dataset).float())\n",
        "test_mae_loss = np.mean(np.abs(np.array(x_test_pred) - np.array(test_anomaly_dataset)), axis=1)\n",
        "test_mae_loss = test_mae_loss.reshape((-1))\n",
        "#test_anomaly_dataset = create_sequences_b(abnormal_data)\n",
        "#test_mae_loss,_ = test(modelB, torch.tensor(test_anomaly_dataset).float())\n",
        "plt.hist(test_mae_loss, bins=50)\n",
        "plt.xlabel(\"Test MAE loss\")\n",
        "plt.ylabel(\"No of samples\")\n",
        "plt.show()"
      ]
    },
    {
      "cell_type": "code",
      "execution_count": 41,
      "metadata": {
        "colab": {
          "base_uri": "https://localhost:8080/",
          "height": 265
        },
        "id": "6eTsiYh34N_W",
        "outputId": "a45077af-4024-4aff-ff28-4c6a404bcbff"
      },
      "outputs": [
        {
          "data": {
            "image/png": "[encoded data removed]",
            "text/plain": [
              "<Figure size 432x288 with 1 Axes>"
            ]
          },
          "metadata": {
            "needs_background": "light"
          },
          "output_type": "display_data"
        }
      ],
      "source": [
        "plt.plot(test_anomaly_dataset[550])\n",
        "plt.plot(x_test_pred[550])\n",
        "plt.show()"
      ]
    },
    {
      "cell_type": "code",
      "execution_count": null,
      "metadata": {
        "id": "mRGjuLDcsN0L"
      },
      "outputs": [],
      "source": [
        "import sklearn\n",
        "sklearn.metrics.roc_auc_score(abnormal_label, publicb_binary)"
      ]
    },
    {
      "cell_type": "code",
      "execution_count": 31,
      "metadata": {
        "colab": {
          "base_uri": "https://localhost:8080/",
          "height": 320
        },
        "id": "FvtwmznrsRsn",
        "outputId": "5fd5ec4e-a4ac-4d13-e91b-d9b600a2a65d"
      },
      "outputs": [
        {
          "name": "stderr",
          "output_type": "stream",
          "text": [
            "/usr/local/lib/python3.7/dist-packages/seaborn/distributions.py:2619: FutureWarning: `distplot` is a deprecated function and will be removed in a future version. Please adapt your code to use either `displot` (a figure-level function with similar flexibility) or `histplot` (an axes-level function for histograms).\n",
            "  warnings.warn(msg, FutureWarning)\n"
          ]
        },
        {
          "data": {
            "image/png": "[encoded data removed]",
            "text/plain": [
              "<Figure size 432x288 with 1 Axes>"
            ]
          },
          "metadata": {
            "needs_background": "light"
          },
          "output_type": "display_data"
        }
      ],
      "source": [
        "import seaborn as sns\n",
        "normal_losses, _ = test(modelB, torch.tensor(train_dataset).float())\n",
        "sns.distplot(normal_losses, bins=50, kde=True);"
      ]
    },
    {
      "cell_type": "code",
      "execution_count": null,
      "metadata": {
        "id": "Sr7FAM93sRsn"
      },
      "outputs": [],
      "source": [
        "THRESHOLD = 0.9"
      ]
    },
    {
      "cell_type": "code",
      "execution_count": 35,
      "metadata": {
        "colab": {
          "base_uri": "https://localhost:8080/",
          "height": 320
        },
        "id": "o0HemsUzv8Vr",
        "outputId": "b24995d9-6a77-4cc6-94ca-54c27d9ee410"
      },
      "outputs": [
        {
          "name": "stderr",
          "output_type": "stream",
          "text": [
            "/usr/local/lib/python3.7/dist-packages/seaborn/distributions.py:2619: FutureWarning: `distplot` is a deprecated function and will be removed in a future version. Please adapt your code to use either `displot` (a figure-level function with similar flexibility) or `histplot` (an axes-level function for histograms).\n",
            "  warnings.warn(msg, FutureWarning)\n"
          ]
        },
        {
          "data": {
            "image/png": "[encoded data removed]",
            "text/plain": [
              "<Figure size 432x288 with 1 Axes>"
            ]
          },
          "metadata": {
            "needs_background": "light"
          },
          "output_type": "display_data"
        }
      ],
      "source": [
        "import seaborn as sns\n",
        "losses, _ = test(modelB, test_output_dataset)\n",
        "sns.distplot(losses, bins=50, kde=True);"
      ]
    },
    {
      "cell_type": "code",
      "execution_count": 42,
      "metadata": {
        "id": "mPM19tApMyhw"
      },
      "outputs": [],
      "source": [
        "threshold = 0.025"
      ]
    },
    {
      "cell_type": "code",
      "execution_count": 43,
      "metadata": {
        "id": "3oXdnyb0sRso"
      },
      "outputs": [],
      "source": [
        "publicb_binary =[int(l > threshold) for l in publicb]"
      ]
    },
    {
      "cell_type": "code",
      "execution_count": 44,
      "metadata": {
        "colab": {
          "base_uri": "https://localhost:8080/"
        },
        "id": "TtDf6g4hvuyh",
        "outputId": "939427bc-ba5d-4a37-f526-40b9b70e81e4"
      },
      "outputs": [
        {
          "data": {
            "text/plain": [
              "18"
            ]
          },
          "execution_count": 44,
          "metadata": {},
          "output_type": "execute_result"
        }
      ],
      "source": [
        "publicb_binary.count(1)"
      ]
    },
    {
      "cell_type": "code",
      "execution_count": 45,
      "metadata": {
        "colab": {
          "base_uri": "https://localhost:8080/"
        },
        "id": "c6TSgjdqsRso",
        "outputId": "bb58aa57-7494-4f9e-a61b-b360e83ac0fb"
      },
      "outputs": [
        {
          "data": {
            "text/plain": [
              "0.4975622968580715"
            ]
          },
          "execution_count": 45,
          "metadata": {},
          "output_type": "execute_result"
        }
      ],
      "source": [
        "import sklearn\n",
        "sklearn.metrics.roc_auc_score(abnormal_label, publicb_binary)"
      ]
    },
    {
      "cell_type": "markdown",
      "metadata": {
        "id": "HWgCyDCTa71f"
      },
      "source": [
        "# PrivateB"
      ]
    },
    {
      "cell_type": "code",
      "execution_count": null,
      "metadata": {
        "id": "pXsuCXnUbAm4"
      },
      "outputs": [],
      "source": [
        "anomaly_df = pd.read_csv('sensor_B_private.csv')\n",
        "abnormal_data = anomaly_df['telemary_value'].tolist()\n",
        "abnormal_data = np.array(abnormal_data)\n",
        "\n",
        "test_anomaly_dataset, _, _ = create_dataset_b(abnormal_data)"
      ]
    },
    {
      "cell_type": "code",
      "execution_count": null,
      "metadata": {
        "colab": {
          "base_uri": "https://localhost:8080/"
        },
        "id": "FCZDA035bAm5",
        "outputId": "05e48da2-5680-468d-cef9-5534f64f9671"
      },
      "outputs": [
        {
          "data": {
            "text/plain": [
              "4000"
            ]
          },
          "execution_count": 44,
          "metadata": {},
          "output_type": "execute_result"
        }
      ],
      "source": [
        "privateb, _ = test(\n",
        "  modelB_orig,\n",
        "  test_anomaly_dataset\n",
        ")\n",
        "len(privateb)\n",
        "\n"
      ]
    },
    {
      "cell_type": "markdown",
      "metadata": {
        "id": "UEQf2w3JbyfE"
      },
      "source": [
        "# PublicC"
      ]
    },
    {
      "cell_type": "code",
      "execution_count": null,
      "metadata": {
        "id": "JzzspyoWXfmj"
      },
      "outputs": [],
      "source": [
        "def create_dataset_c(df):\n",
        "  \n",
        "  li = df.astype(np.float32).tolist()\n",
        "  split = list(split_list(li, 250))\n",
        "  dataset = [torch.tensor(s).unsqueeze(1).float() for s in split]\n",
        "  if(len(dataset[-1])!=250):\n",
        "    dataset.pop()\n",
        "  n_seq, seq_len, n_features = torch.stack(dataset).shape\n",
        "  return dataset, seq_len, n_features"
      ]
    },
    {
      "cell_type": "code",
      "execution_count": null,
      "metadata": {
        "id": "LvemTN3ZMQfh"
      },
      "outputs": [],
      "source": [
        "def create_sequences_c(df, time_steps=250):\n",
        "    values = df.astype(np.float32).tolist()\n",
        "    output = []\n",
        "    for i in range(0, len(values) - time_steps + 1, 2):\n",
        "        output.append(values[i : (i + time_steps)])\n",
        "    return np.stack(output)"
      ]
    },
    {
      "cell_type": "code",
      "execution_count": null,
      "metadata": {
        "id": "0PHr88spb4KG"
      },
      "outputs": [],
      "source": [
        "df_n = pd.read_csv('sensor_C_normal.csv')\n",
        "normal_data = df_n['telemetry'].tolist()\n",
        "normal_data = np.array(normal_data)\n",
        "normal_dataset = create_sequences_c(normal_data)\n",
        "train_dataset, val_dataset = train_test_split(\n",
        "  normal_dataset,\n",
        "  test_size=0.15, shuffle=True, random_state=5)"
      ]
    },
    {
      "cell_type": "code",
      "execution_count": null,
      "metadata": {
        "colab": {
          "base_uri": "https://localhost:8080/",
          "height": 265
        },
        "id": "7TU3ujmJaK08",
        "outputId": "04a253fc-55ba-499c-d1d8-e37c6a4a0d88"
      },
      "outputs": [
        {
          "data": {
            "image/png": "[encoded data removed]",
            "text/plain": [
              "<Figure size 432x288 with 1 Axes>"
            ]
          },
          "metadata": {
            "needs_background": "light"
          },
          "output_type": "display_data"
        }
      ],
      "source": [
        "from matplotlib import pyplot as plt\n",
        "fig, ax = plt.subplots()\n",
        "df_n.plot(legend=False, ax=ax)\n",
        "plt.show()"
      ]
    },
    {
      "cell_type": "code",
      "execution_count": null,
      "metadata": {
        "id": "TL06fSCIjw7V"
      },
      "outputs": [],
      "source": [
        "from torch import nn, Tensor\n",
        "class CC_Encoder(nn.Module):\n",
        "  def __init__(self, seq_len, n_features, embedding_dim=64):\n",
        "    super(CC_Encoder, self).__init__()\n",
        "    self.seq_len, self.n_features = seq_len, n_features\n",
        "    self.embedding_dim, self.hidden_dim = embedding_dim, 2 * embedding_dim\n",
        "    #self.LeakyRelu = nn.functional.leaky_relu(negative_slope=0.01, inplace=False)\n",
        "    self.enc1 = nn.Conv1d(in_channels= 1, out_channels =128, kernel_size=1, padding=0)\n",
        "    self.dropout = nn.Dropout(0.2)\n",
        "    self.enc2 = nn.Conv1d(in_channels= 128,out_channels =64, kernel_size=1, padding=0)\n",
        "    self.enctemp = nn.Conv1d(in_channels= 64,out_channels =64, kernel_size=1, padding=0)\n",
        "    self.fc = nn.Linear(embedding_dim, embedding_dim)\n",
        "  def forward(self, x):\n",
        "    x = x.reshape((1, self.n_features, self.seq_len))\n",
        "    x = self.enc1(x)\n",
        "    #print('after e1', x.size())\n",
        "    x = self.dropout(x)\n",
        "    x = self.enc2(x)\n",
        "    #print('after e2', x.size())\n",
        "    x = self.enctemp(x)\n",
        "    x = self.enctemp(x)\n",
        "    #print('after et', x.size())\n",
        "    x = self.enctemp(x)\n",
        "    #print('after et', x.size())\n",
        "    \n",
        "    return x#hidden_n.reshape((self.n_features, self.embedding_dim))\n",
        "\n",
        "\n",
        "class CC_Decoder(nn.Module):\n",
        "  def __init__(self, seq_len, input_dim=64, n_features=1):\n",
        "    super(CC_Decoder, self).__init__()\n",
        "    self.seq_len, self.input_dim = seq_len, input_dim\n",
        "    self.hidden_dim, self.n_features = 2 * input_dim, n_features\n",
        "    self.fc = nn.Linear(input_dim, input_dim)\n",
        "    self.dec1 = nn.ConvTranspose1d(in_channels= 64,out_channels =64, kernel_size=1, padding=0)\n",
        "    self.dec2 = nn.ConvTranspose1d(in_channels= 64,out_channels =128, kernel_size=1, padding=0)\n",
        "    self.dec3 = nn.ConvTranspose1d(in_channels= 128,out_channels =1, kernel_size=1, padding=0)\n",
        "    self.dropout = nn.Dropout(0.2)\n",
        "    #self.LeakyRelu = nn.functional.leaky_relu(negative_slope=0.01, inplace=False)\n",
        "    self.output_layer = nn.Linear(self.hidden_dim, n_features)\n",
        "  def forward(self, x):\n",
        "    x = self.dec1(x)\n",
        "    #print('after d1', x.size())\n",
        "    x = self.dec1(x)\n",
        "    #print('after d1', x.size())\n",
        "    x = self.dec1(x)\n",
        "    #print('after d1', x.size())\n",
        "    x = self.dec1(x)\n",
        "    #print('after d1', x.size())\n",
        "    #x = self.dropout(x)\n",
        "    x = self.dec2(x)\n",
        "    #print('after d1', x.size())\n",
        "    x = self.dec3(x)\n",
        "    #print('after d1', x.size())\n",
        "    return x\n",
        "\n",
        "device = torch.device(\"cuda\" if torch.cuda.is_available() else \"cpu\")\n",
        "class C_Autoencoder(nn.Module):\n",
        "  def __init__(self, seq_len, n_features, embedding_dim=64):\n",
        "    super(C_Autoencoder, self).__init__()\n",
        "    self.seq_len = seq_len\n",
        "    self.n_features = n_features\n",
        "    self.encoder = CC_Encoder(seq_len, n_features, embedding_dim).to(device)\n",
        "    self.decoder = CC_Decoder(seq_len, embedding_dim, n_features).to(device)\n",
        "  def forward(self, x):\n",
        "    x = self.encoder(x)\n",
        "    #print('after encoder', x.size())\n",
        "    x = self.decoder(x)\n",
        "    return x.reshape((self.seq_len))"
      ]
    },
    {
      "cell_type": "code",
      "execution_count": null,
      "metadata": {
        "id": "IzLBlMS5G0Ux"
      },
      "outputs": [],
      "source": [
        "import copy\n",
        "def train_model(model, train_dataset, val_dataset, n_epochs):\n",
        "  optimizer = torch.optim.Adam(model.parameters(), lr=5*1e-4)\n",
        "  scheduler = torch.optim.lr_scheduler.ReduceLROnPlateau(optimizer, mode='min', factor=0.5, patience=10, min_lr=1e-6, verbose=True)\n",
        "  criterion = nn.L1Loss(reduction='sum').to(device)\n",
        "  history = dict(train=[], val=[])\n",
        "  best_model_wts = copy.deepcopy(model.state_dict())\n",
        "  best_loss = 10000.0\n",
        "  for epoch in range(1, n_epochs + 1):\n",
        "    model = model.train()\n",
        "    train_losses = []\n",
        "    for seq_true in train_dataset:\n",
        "      optimizer.zero_grad()\n",
        "      seq_true = seq_true.to(device)\n",
        "      seq_pred = model(seq_true)\n",
        "      loss = criterion(seq_pred, seq_true)\n",
        "      l1_lambda = 0.05\n",
        "      l1_norm = sum(p.abs().sum()\n",
        "                    for p in model.parameters())\n",
        "\n",
        "      #loss = loss + l1_lambda * l1_norm\n",
        "      loss.backward()\n",
        "      #torch.nn.utils.clip_grad_norm_(model.parameters(), 0.5)\n",
        "      optimizer.step()\n",
        "      train_losses.append(loss.item())\n",
        "    \n",
        "    val_losses = []\n",
        "    model = model.eval()\n",
        "    with torch.no_grad():\n",
        "      for seq_true in val_dataset:\n",
        "        #print(seq_true.size())\n",
        "        seq_true = seq_true.to(device)\n",
        "        seq_pred = model(seq_true)\n",
        "        loss = criterion(seq_pred, seq_true)\n",
        "        l1_lambda = 0.05\n",
        "        l1_norm = sum(p.abs().sum()\n",
        "                      for p in model.parameters())\n",
        "\n",
        "        #loss = loss + l1_lambda * l1_norm\n",
        "        val_losses.append(loss.item())\n",
        "    train_loss = np.mean(train_losses)\n",
        "    val_loss = np.mean(val_losses)\n",
        "    scheduler.step(train_loss)\n",
        "    history['train'].append(train_loss)\n",
        "    history['val'].append(val_loss)\n",
        "    if val_loss < best_loss:\n",
        "      print('save')\n",
        "      best_loss = val_loss\n",
        "      best_model_wts = copy.deepcopy(model.state_dict())\n",
        "    print(f'Epoch {epoch}: train loss {train_loss} val loss {val_loss}')\n",
        "  model.load_state_dict(best_model_wts)\n",
        "  return model.eval(), history"
      ]
    },
    {
      "cell_type": "code",
      "execution_count": null,
      "metadata": {
        "colab": {
          "base_uri": "https://localhost:8080/",
          "height": 1000
        },
        "id": "FeTlGbWrb4KG",
        "outputId": "b7a9410d-efcc-43a0-8627-b087a32bce4a"
      },
      "outputs": [
        {
          "name": "stdout",
          "output_type": "stream",
          "text": [
            "save\n",
            "Epoch 1: train loss 38.728909276729254 val loss 14.261576603931985\n",
            "Epoch 2: train loss 26.11251846589654 val loss 17.83577102612538\n",
            "save\n",
            "Epoch 3: train loss 23.86605302888344 val loss 6.875945917360342\n",
            "save\n",
            "Epoch 4: train loss 22.761344516978543 val loss 5.758895011464501\n",
            "save\n",
            "Epoch 5: train loss 20.713436581969802 val loss 1.4704164107134388\n",
            "Epoch 6: train loss 20.559554568243243 val loss 2.887329874524645\n",
            "Epoch 7: train loss 19.58186194152314 val loss 6.645273014238685\n",
            "Epoch 8: train loss 19.296258886475368 val loss 3.526377875334138\n",
            "Epoch 9: train loss 19.431205970669225 val loss 8.908986723347075\n",
            "Epoch 10: train loss 18.514437794145955 val loss 6.38726104141041\n",
            "Epoch 11: train loss 18.38006079574516 val loss 6.377730336158899\n",
            "Epoch 12: train loss 17.85933860286868 val loss 5.571009544809913\n",
            "Epoch 13: train loss 17.684315718137302 val loss 2.420017874164946\n",
            "Epoch 14: train loss 18.00973229386688 val loss 3.996102293585516\n",
            "Epoch 15: train loss 17.2581341007716 val loss 11.158050482440146\n",
            "Epoch 16: train loss 17.26434261442849 val loss 3.705603687626541\n",
            "Epoch 17: train loss 17.17915238622087 val loss 4.074585623042599\n",
            "Epoch 18: train loss 17.427277187416458 val loss 8.976103907178162\n",
            "Epoch 19: train loss 16.57526740445271 val loss 3.3116810078833514\n",
            "Epoch 20: train loss 16.56228467457974 val loss 1.6538046530097912\n",
            "Epoch 21: train loss 16.70953366982991 val loss 4.684771536262172\n",
            "Epoch 22: train loss 16.244676283581764 val loss 9.795585814554979\n",
            "Epoch 23: train loss 15.944706632001367 val loss 3.0268358121252366\n",
            "Epoch 24: train loss 16.26465808428251 val loss 4.657799212036619\n",
            "save\n",
            "Epoch 25: train loss 16.817728591720442 val loss 0.43671616399364105\n",
            "Epoch 26: train loss 15.87753330312703 val loss 6.317607575920737\n",
            "Epoch 27: train loss 16.33910072551054 val loss 2.5846684692771573\n",
            "Epoch 28: train loss 15.76564044218797 val loss 7.454953463973513\n",
            "Epoch 29: train loss 15.77591332051549 val loss 5.75601995067232\n",
            "Epoch 30: train loss 15.434493832998147 val loss 6.633937446934403\n",
            "Epoch 31: train loss 15.563098991618437 val loss 5.726576950899355\n",
            "Epoch 32: train loss 15.194716271232156 val loss 3.2267911206385134\n",
            "Epoch 33: train loss 15.173965024732357 val loss 1.9197631671929816\n",
            "Epoch 34: train loss 14.843423218748688 val loss 3.354663470748124\n",
            "Epoch 35: train loss 14.834268705877244 val loss 6.7453020545327735\n",
            "save\n",
            "Epoch 36: train loss 14.991712727697726 val loss 0.3413597178307308\n",
            "Epoch 37: train loss 14.58776867767265 val loss 5.618749202436702\n",
            "Epoch 38: train loss 14.68472694595475 val loss 1.8419023987593923\n",
            "Epoch 39: train loss 14.460796932289503 val loss 8.813255021526555\n",
            "Epoch 40: train loss 14.125048966429352 val loss 1.999481331770587\n",
            "Epoch 41: train loss 13.892760781680837 val loss 1.2477674043861924\n",
            "Epoch 42: train loss 14.054138535288125 val loss 4.138997699045072\n",
            "Epoch 43: train loss 14.144943782107323 val loss 7.124605646558628\n",
            "Epoch 44: train loss 14.145160601689266 val loss 3.01869802414232\n",
            "Epoch 45: train loss 13.828660361907062 val loss 9.041412881984833\n",
            "Epoch 46: train loss 13.600475556170778 val loss 11.314756466324921\n",
            "Epoch 47: train loss 13.640881175908568 val loss 3.0785953375943906\n",
            "Epoch 48: train loss 13.751538126716786 val loss 2.1407500558598027\n",
            "Epoch 49: train loss 13.477502708521364 val loss 8.63988110062423\n",
            "Epoch 50: train loss 14.30551408426794 val loss 3.7043645700831322\n",
            "Epoch 51: train loss 14.13949078132664 val loss 4.236813059278354\n",
            "Epoch 52: train loss 13.791040067759035 val loss 11.083900518478101\n",
            "Epoch 53: train loss 14.15679795493907 val loss 4.801602638451157\n",
            "Epoch 54: train loss 13.603603140800788 val loss 7.617004743806875\n",
            "Epoch 55: train loss 13.701415250204267 val loss 4.288169388558455\n",
            "Epoch 56: train loss 13.774528474289907 val loss 4.661180748301707\n",
            "Epoch 57: train loss 13.611128393880922 val loss 2.2821837974961396\n",
            "Epoch 58: train loss 14.276677029165208 val loss 10.670715447444065\n",
            "Epoch 59: train loss 13.693095893342031 val loss 6.298292588276468\n",
            "Epoch 00060: reducing learning rate of group 0 to 2.5000e-04.\n",
            "Epoch 60: train loss 13.578296254662906 val loss 2.4377634677158038\n",
            "Epoch 61: train loss 12.62414957765001 val loss 2.514014374678302\n",
            "Epoch 62: train loss 12.775785371728613 val loss 3.141294729937414\n",
            "Epoch 63: train loss 13.00463154089397 val loss 2.711808869793157\n",
            "Epoch 64: train loss 12.708238157751333 val loss 3.609035873109368\n",
            "Epoch 65: train loss 12.787877310455116 val loss 0.5052172704866738\n",
            "Epoch 66: train loss 12.902078276306256 val loss 2.959277494697814\n",
            "Epoch 67: train loss 12.725252105100122 val loss 4.205754743260183\n",
            "Epoch 68: train loss 12.763609811191644 val loss 3.7622460711533856\n",
            "Epoch 69: train loss 12.926196172766016 val loss 3.650728664580424\n",
            "Epoch 70: train loss 12.857003487073458 val loss 3.4800052096129983\n",
            "Epoch 71: train loss 13.011216802294976 val loss 0.7623691543651994\n",
            "Epoch 00072: reducing learning rate of group 0 to 1.2500e-04.\n",
            "Epoch 72: train loss 12.976661861212545 val loss 3.032723208141934\n",
            "Epoch 73: train loss 12.237972835070407 val loss 3.506712026656813\n",
            "Epoch 74: train loss 12.375317396621359 val loss 2.0419755938706126\n",
            "Epoch 75: train loss 12.331326284020195 val loss 1.7462649459292174\n",
            "Epoch 76: train loss 12.311023236399862 val loss 1.3401570096137418\n",
            "Epoch 77: train loss 12.33418888204238 val loss 3.7832638473267766\n",
            "Epoch 78: train loss 12.41462142111489 val loss 2.62066402101213\n",
            "Epoch 79: train loss 12.386875962240124 val loss 0.8846893955947487\n",
            "Epoch 80: train loss 12.297873152866622 val loss 2.6387509692246747\n",
            "Epoch 81: train loss 12.33906638244698 val loss 1.4830315340856077\n",
            "Epoch 82: train loss 12.27106504202968 val loss 0.594825338406168\n",
            "Epoch 83: train loss 12.454903682971972 val loss 0.8442327376383885\n",
            "Epoch 00084: reducing learning rate of group 0 to 6.2500e-05.\n",
            "Epoch 84: train loss 12.28877886711742 val loss 1.8610860488976642\n",
            "Epoch 85: train loss 12.008263527537903 val loss 1.340462500122702\n",
            "Epoch 86: train loss 12.052390217781067 val loss 2.463560357974593\n",
            "Epoch 87: train loss 12.093916472266702 val loss 1.7278035385593487\n",
            "Epoch 88: train loss 12.069432006162756 val loss 3.1490701368659924\n",
            "Epoch 89: train loss 12.036833623415744 val loss 1.421295123495114\n",
            "Epoch 90: train loss 12.104541446288787 val loss 2.802857090713112\n",
            "Epoch 91: train loss 12.071574388586019 val loss 1.2171802539734324\n",
            "Epoch 92: train loss 12.123749745377587 val loss 2.2626560941623275\n",
            "Epoch 93: train loss 12.126350873735696 val loss 1.5247127516254497\n",
            "Epoch 94: train loss 12.077656459484704 val loss 0.3459725888671389\n",
            "Epoch 95: train loss 12.079906368147734 val loss 1.6932750575861353\n",
            "Epoch 00096: reducing learning rate of group 0 to 3.1250e-05.\n",
            "Epoch 96: train loss 12.037895742584677 val loss 2.1081482179605278\n",
            "Epoch 97: train loss 11.937222001239725 val loss 1.8174125555973903\n",
            "Epoch 98: train loss 11.969740319036251 val loss 1.3303175545801782\n",
            "Epoch 99: train loss 11.982522528096021 val loss 0.47924130889260846\n",
            "Epoch 100: train loss 11.949825282010558 val loss 0.841056183265273\n",
            "Epoch 101: train loss 11.965445852926953 val loss 1.4992465251570295\n",
            "Epoch 102: train loss 11.988808412897102 val loss 1.6712233822816496\n",
            "Epoch 103: train loss 11.933475646497977 val loss 0.48299021326052916\n",
            "Epoch 104: train loss 11.982514390578636 val loss 1.1148839517004172\n",
            "Epoch 105: train loss 11.959814344596 val loss 2.0058551647101237\n",
            "Epoch 106: train loss 11.95402822127709 val loss 2.014255109865954\n",
            "Epoch 107: train loss 11.954227754972639 val loss 1.261775813284953\n",
            "Epoch 108: train loss 11.933777486576753 val loss 1.699659593545707\n",
            "Epoch 109: train loss 11.959285446961001 val loss 0.7191842164203619\n",
            "save\n",
            "Epoch 110: train loss 11.999972607755014 val loss 0.23477139670378083\n",
            "Epoch 111: train loss 11.980679302194 val loss 1.7339467212652704\n",
            "Epoch 112: train loss 11.937408747716187 val loss 1.0071265469690798\n",
            "Epoch 113: train loss 11.960841078024645 val loss 1.4892584298067033\n",
            "Epoch 114: train loss 11.911058283499463 val loss 2.2665886780258955\n",
            "Epoch 115: train loss 11.944799367658693 val loss 2.834765077396563\n",
            "Epoch 116: train loss 11.991888928197628 val loss 0.40545555208898654\n",
            "save\n",
            "Epoch 117: train loss 11.955135517530312 val loss 0.15820539605086018\n",
            "Epoch 118: train loss 11.985636671204373 val loss 2.1177113101740552\n",
            "Epoch 119: train loss 11.90712269129257 val loss 0.6977340924512049\n",
            "Epoch 120: train loss 11.993014262272762 val loss 0.427420865957904\n",
            "Epoch 121: train loss 12.001516564938816 val loss 1.7921178272575329\n",
            "Epoch 122: train loss 11.90458285862504 val loss 1.4714727386547501\n",
            "save\n",
            "Epoch 123: train loss 11.965292295179756 val loss 0.1258145950402424\n",
            "Epoch 124: train loss 12.008251258690432 val loss 1.3728593940947467\n",
            "Epoch 125: train loss 11.910907967058241 val loss 0.5966649495871963\n",
            "Epoch 126: train loss 12.009431630238149 val loss 1.0299040451171293\n",
            "Epoch 127: train loss 11.934601637572724 val loss 0.7279322109404643\n",
            "Epoch 128: train loss 11.936527123278623 val loss 0.8890875836086881\n",
            "Epoch 129: train loss 11.986017213687639 val loss 1.4821784268518923\n",
            "Epoch 130: train loss 11.964470244640678 val loss 2.3153922216148133\n",
            "Epoch 131: train loss 11.921318392408379 val loss 4.2448463136223475\n",
            "Epoch 132: train loss 11.942718041968021 val loss 1.7519744725743676\n",
            "Epoch 00133: reducing learning rate of group 0 to 1.5625e-05.\n",
            "Epoch 133: train loss 11.932743609221273 val loss 1.0820868850513627\n",
            "Epoch 134: train loss 11.855154574187093 val loss 1.6552971138316355\n",
            "Epoch 135: train loss 11.893150464441982 val loss 1.8627548308888817\n",
            "Epoch 136: train loss 11.89585705634156 val loss 1.7976706453189728\n",
            "Epoch 137: train loss 11.865226007155163 val loss 0.43120418764223717\n",
            "Epoch 138: train loss 11.91795733341804 val loss 0.24176839354691232\n",
            "Epoch 139: train loss 11.901861233409173 val loss 1.8128948295192353\n",
            "Epoch 140: train loss 11.900155987135426 val loss 0.14185974324584766\n",
            "Epoch 141: train loss 11.891244729180142 val loss 1.875252460218539\n",
            "Epoch 142: train loss 11.845444187319655 val loss 1.6264685635354108\n",
            "Epoch 143: train loss 11.86706489405481 val loss 2.2884329921880346\n",
            "Epoch 144: train loss 11.894933916864352 val loss 0.8381993588368604\n",
            "Epoch 145: train loss 11.898264420517968 val loss 2.1556953776414227\n",
            "Epoch 146: train loss 11.848286247900708 val loss 0.8460062434718867\n",
            "Epoch 147: train loss 11.883703592136435 val loss 0.6533147620547349\n",
            "Epoch 148: train loss 11.875714664006125 val loss 1.2397734564580736\n",
            "Epoch 149: train loss 11.891287913689247 val loss 1.7176200979074854\n",
            "Epoch 150: train loss 11.888966429287493 val loss 1.9145075606692368\n",
            "Epoch 151: train loss 11.905460829109089 val loss 1.7589428052780733\n",
            "Epoch 152: train loss 11.877777802458716 val loss 1.397262684099234\n",
            "Epoch 00153: reducing learning rate of group 0 to 7.8125e-06.\n",
            "Epoch 153: train loss 11.873086733515985 val loss 1.7237370090120157\n",
            "Epoch 154: train loss 11.806204871894009 val loss 2.0047401417592527\n",
            "Epoch 155: train loss 11.858206222499657 val loss 1.7090572673044386\n",
            "Epoch 156: train loss 11.857218466732837 val loss 1.8558561224846324\n",
            "Epoch 157: train loss 11.874409252701842 val loss 0.39581265039504715\n"
          ]
        },
        {
          "ename": "KeyboardInterrupt",
          "evalue": "ignored",
          "output_type": "error",
          "traceback": [
            "\u001b[0;31m---------------------------------------------------------------------------\u001b[0m",
            "\u001b[0;31mKeyboardInterrupt\u001b[0m                         Traceback (most recent call last)",
            "\u001b[0;32m<ipython-input-295-d5588a138ba3>\u001b[0m in \u001b[0;36m<module>\u001b[0;34m()\u001b[0m\n\u001b[1;32m      5\u001b[0m   \u001b[0mtorch\u001b[0m\u001b[0;34m.\u001b[0m\u001b[0mtensor\u001b[0m\u001b[0;34m(\u001b[0m\u001b[0mtrain_dataset\u001b[0m\u001b[0;34m)\u001b[0m\u001b[0;34m.\u001b[0m\u001b[0mfloat\u001b[0m\u001b[0;34m(\u001b[0m\u001b[0;34m)\u001b[0m\u001b[0;34m,\u001b[0m\u001b[0;34m\u001b[0m\u001b[0;34m\u001b[0m\u001b[0m\n\u001b[1;32m      6\u001b[0m   \u001b[0mtorch\u001b[0m\u001b[0;34m.\u001b[0m\u001b[0mtensor\u001b[0m\u001b[0;34m(\u001b[0m\u001b[0mval_dataset\u001b[0m\u001b[0;34m)\u001b[0m\u001b[0;34m.\u001b[0m\u001b[0mfloat\u001b[0m\u001b[0;34m(\u001b[0m\u001b[0;34m)\u001b[0m\u001b[0;34m,\u001b[0m\u001b[0;34m\u001b[0m\u001b[0;34m\u001b[0m\u001b[0m\n\u001b[0;32m----> 7\u001b[0;31m   \u001b[0mn_epochs\u001b[0m\u001b[0;34m=\u001b[0m\u001b[0;36m200\u001b[0m\u001b[0;34m\u001b[0m\u001b[0;34m\u001b[0m\u001b[0m\n\u001b[0m\u001b[1;32m      8\u001b[0m )\n",
            "\u001b[0;32m<ipython-input-294-44c001aa8f7c>\u001b[0m in \u001b[0;36mtrain_model\u001b[0;34m(model, train_dataset, val_dataset, n_epochs)\u001b[0m\n\u001b[1;32m     13\u001b[0m       \u001b[0moptimizer\u001b[0m\u001b[0;34m.\u001b[0m\u001b[0mzero_grad\u001b[0m\u001b[0;34m(\u001b[0m\u001b[0;34m)\u001b[0m\u001b[0;34m\u001b[0m\u001b[0;34m\u001b[0m\u001b[0m\n\u001b[1;32m     14\u001b[0m       \u001b[0mseq_true\u001b[0m \u001b[0;34m=\u001b[0m \u001b[0mseq_true\u001b[0m\u001b[0;34m.\u001b[0m\u001b[0mto\u001b[0m\u001b[0;34m(\u001b[0m\u001b[0mdevice\u001b[0m\u001b[0;34m)\u001b[0m\u001b[0;34m\u001b[0m\u001b[0;34m\u001b[0m\u001b[0m\n\u001b[0;32m---> 15\u001b[0;31m       \u001b[0mseq_pred\u001b[0m \u001b[0;34m=\u001b[0m \u001b[0mmodel\u001b[0m\u001b[0;34m(\u001b[0m\u001b[0mseq_true\u001b[0m\u001b[0;34m)\u001b[0m\u001b[0;34m\u001b[0m\u001b[0;34m\u001b[0m\u001b[0m\n\u001b[0m\u001b[1;32m     16\u001b[0m       \u001b[0mloss\u001b[0m \u001b[0;34m=\u001b[0m \u001b[0mcriterion\u001b[0m\u001b[0;34m(\u001b[0m\u001b[0mseq_pred\u001b[0m\u001b[0;34m,\u001b[0m \u001b[0mseq_true\u001b[0m\u001b[0;34m)\u001b[0m\u001b[0;34m\u001b[0m\u001b[0;34m\u001b[0m\u001b[0m\n\u001b[1;32m     17\u001b[0m       \u001b[0ml1_lambda\u001b[0m \u001b[0;34m=\u001b[0m \u001b[0;36m0.05\u001b[0m\u001b[0;34m\u001b[0m\u001b[0;34m\u001b[0m\u001b[0m\n",
            "\u001b[0;32m/usr/local/lib/python3.7/dist-packages/torch/nn/modules/module.py\u001b[0m in \u001b[0;36m_call_impl\u001b[0;34m(self, *input, **kwargs)\u001b[0m\n\u001b[1;32m   1108\u001b[0m         if not (self._backward_hooks or self._forward_hooks or self._forward_pre_hooks or _global_backward_hooks\n\u001b[1;32m   1109\u001b[0m                 or _global_forward_hooks or _global_forward_pre_hooks):\n\u001b[0;32m-> 1110\u001b[0;31m             \u001b[0;32mreturn\u001b[0m \u001b[0mforward_call\u001b[0m\u001b[0;34m(\u001b[0m\u001b[0;34m*\u001b[0m\u001b[0minput\u001b[0m\u001b[0;34m,\u001b[0m \u001b[0;34m**\u001b[0m\u001b[0mkwargs\u001b[0m\u001b[0;34m)\u001b[0m\u001b[0;34m\u001b[0m\u001b[0;34m\u001b[0m\u001b[0m\n\u001b[0m\u001b[1;32m   1111\u001b[0m         \u001b[0;31m# Do not call functions when jit is used\u001b[0m\u001b[0;34m\u001b[0m\u001b[0;34m\u001b[0m\u001b[0;34m\u001b[0m\u001b[0m\n\u001b[1;32m   1112\u001b[0m         \u001b[0mfull_backward_hooks\u001b[0m\u001b[0;34m,\u001b[0m \u001b[0mnon_full_backward_hooks\u001b[0m \u001b[0;34m=\u001b[0m \u001b[0;34m[\u001b[0m\u001b[0;34m]\u001b[0m\u001b[0;34m,\u001b[0m \u001b[0;34m[\u001b[0m\u001b[0;34m]\u001b[0m\u001b[0;34m\u001b[0m\u001b[0;34m\u001b[0m\u001b[0m\n",
            "\u001b[0;32m<ipython-input-293-cd0abfd977ea>\u001b[0m in \u001b[0;36mforward\u001b[0;34m(self, x)\u001b[0m\n\u001b[1;32m     66\u001b[0m     \u001b[0mx\u001b[0m \u001b[0;34m=\u001b[0m \u001b[0mself\u001b[0m\u001b[0;34m.\u001b[0m\u001b[0mencoder\u001b[0m\u001b[0;34m(\u001b[0m\u001b[0mx\u001b[0m\u001b[0;34m)\u001b[0m\u001b[0;34m\u001b[0m\u001b[0;34m\u001b[0m\u001b[0m\n\u001b[1;32m     67\u001b[0m     \u001b[0;31m#print('after encoder', x.size())\u001b[0m\u001b[0;34m\u001b[0m\u001b[0;34m\u001b[0m\u001b[0;34m\u001b[0m\u001b[0m\n\u001b[0;32m---> 68\u001b[0;31m     \u001b[0mx\u001b[0m \u001b[0;34m=\u001b[0m \u001b[0mself\u001b[0m\u001b[0;34m.\u001b[0m\u001b[0mdecoder\u001b[0m\u001b[0;34m(\u001b[0m\u001b[0mx\u001b[0m\u001b[0;34m)\u001b[0m\u001b[0;34m\u001b[0m\u001b[0;34m\u001b[0m\u001b[0m\n\u001b[0m\u001b[1;32m     69\u001b[0m     \u001b[0;32mreturn\u001b[0m \u001b[0mx\u001b[0m\u001b[0;34m.\u001b[0m\u001b[0mreshape\u001b[0m\u001b[0;34m(\u001b[0m\u001b[0;34m(\u001b[0m\u001b[0mself\u001b[0m\u001b[0;34m.\u001b[0m\u001b[0mseq_len\u001b[0m\u001b[0;34m)\u001b[0m\u001b[0;34m)\u001b[0m\u001b[0;34m\u001b[0m\u001b[0;34m\u001b[0m\u001b[0m\n",
            "\u001b[0;32m/usr/local/lib/python3.7/dist-packages/torch/nn/modules/module.py\u001b[0m in \u001b[0;36m_call_impl\u001b[0;34m(self, *input, **kwargs)\u001b[0m\n\u001b[1;32m   1108\u001b[0m         if not (self._backward_hooks or self._forward_hooks or self._forward_pre_hooks or _global_backward_hooks\n\u001b[1;32m   1109\u001b[0m                 or _global_forward_hooks or _global_forward_pre_hooks):\n\u001b[0;32m-> 1110\u001b[0;31m             \u001b[0;32mreturn\u001b[0m \u001b[0mforward_call\u001b[0m\u001b[0;34m(\u001b[0m\u001b[0;34m*\u001b[0m\u001b[0minput\u001b[0m\u001b[0;34m,\u001b[0m \u001b[0;34m**\u001b[0m\u001b[0mkwargs\u001b[0m\u001b[0;34m)\u001b[0m\u001b[0;34m\u001b[0m\u001b[0;34m\u001b[0m\u001b[0m\n\u001b[0m\u001b[1;32m   1111\u001b[0m         \u001b[0;31m# Do not call functions when jit is used\u001b[0m\u001b[0;34m\u001b[0m\u001b[0;34m\u001b[0m\u001b[0;34m\u001b[0m\u001b[0m\n\u001b[1;32m   1112\u001b[0m         \u001b[0mfull_backward_hooks\u001b[0m\u001b[0;34m,\u001b[0m \u001b[0mnon_full_backward_hooks\u001b[0m \u001b[0;34m=\u001b[0m \u001b[0;34m[\u001b[0m\u001b[0;34m]\u001b[0m\u001b[0;34m,\u001b[0m \u001b[0;34m[\u001b[0m\u001b[0;34m]\u001b[0m\u001b[0;34m\u001b[0m\u001b[0;34m\u001b[0m\u001b[0m\n",
            "\u001b[0;32m<ipython-input-293-cd0abfd977ea>\u001b[0m in \u001b[0;36mforward\u001b[0;34m(self, x)\u001b[0m\n\u001b[1;32m     46\u001b[0m     \u001b[0mx\u001b[0m \u001b[0;34m=\u001b[0m \u001b[0mself\u001b[0m\u001b[0;34m.\u001b[0m\u001b[0mdec1\u001b[0m\u001b[0;34m(\u001b[0m\u001b[0mx\u001b[0m\u001b[0;34m)\u001b[0m\u001b[0;34m\u001b[0m\u001b[0;34m\u001b[0m\u001b[0m\n\u001b[1;32m     47\u001b[0m     \u001b[0;31m#print('after d1', x.size())\u001b[0m\u001b[0;34m\u001b[0m\u001b[0;34m\u001b[0m\u001b[0;34m\u001b[0m\u001b[0m\n\u001b[0;32m---> 48\u001b[0;31m     \u001b[0mx\u001b[0m \u001b[0;34m=\u001b[0m \u001b[0mself\u001b[0m\u001b[0;34m.\u001b[0m\u001b[0mdec1\u001b[0m\u001b[0;34m(\u001b[0m\u001b[0mx\u001b[0m\u001b[0;34m)\u001b[0m\u001b[0;34m\u001b[0m\u001b[0;34m\u001b[0m\u001b[0m\n\u001b[0m\u001b[1;32m     49\u001b[0m     \u001b[0;31m#print('after d1', x.size())\u001b[0m\u001b[0;34m\u001b[0m\u001b[0;34m\u001b[0m\u001b[0;34m\u001b[0m\u001b[0m\n\u001b[1;32m     50\u001b[0m     \u001b[0;31m#x = self.dropout(x)\u001b[0m\u001b[0;34m\u001b[0m\u001b[0;34m\u001b[0m\u001b[0;34m\u001b[0m\u001b[0m\n",
            "\u001b[0;31mKeyboardInterrupt\u001b[0m: "
          ]
        }
      ],
      "source": [
        "modelC = C_Autoencoder(800, 1,4)\n",
        "modelC = modelC.to(device)\n",
        "modelC, history = train_model(\n",
        "  modelC,\n",
        "  torch.tensor(train_dataset).float(),\n",
        "  torch.tensor(val_dataset).float(),\n",
        "  n_epochs=200\n",
        ")"
      ]
    },
    {
      "cell_type": "code",
      "execution_count": null,
      "metadata": {
        "id": "Ge1D3lQwScc7"
      },
      "outputs": [],
      "source": [
        "torch.save(modelC, 'modelC_0510.pth')"
      ]
    },
    {
      "cell_type": "code",
      "execution_count": null,
      "metadata": {
        "id": "py2GmvVeFmji"
      },
      "outputs": [],
      "source": [
        "modelC_orig = torch.load('modelC.pth')\n",
        "modelC_orig = modelC_orig.to(device)\n",
        "# _, loss = test(modelC_orig, torch.tensor(val_dataset).float())\n",
        "# loss"
      ]
    },
    {
      "cell_type": "code",
      "execution_count": null,
      "metadata": {
        "id": "n-khpvh6b4KH"
      },
      "outputs": [],
      "source": [
        "anomaly_df = pd.read_csv('sensor_C_public.csv')\n",
        "abnormal_data = anomaly_df['telemetry'].tolist()\n",
        "abnormal_label = anomaly_df['label'].tolist()\n",
        "abnormal_data = np.array(abnormal_data)\n",
        "\n",
        "test_anomaly_sequences = create_sequences_c(abnormal_data)\n",
        "test_anomaly_dataset, _, _ = create_dataset_c(abnormal_data)"
      ]
    },
    {
      "cell_type": "code",
      "execution_count": null,
      "metadata": {
        "colab": {
          "base_uri": "https://localhost:8080/",
          "height": 265
        },
        "id": "UOpBtoSraODl",
        "outputId": "91c34831-8b7f-44bb-a25b-7593e1e29e07"
      },
      "outputs": [
        {
          "data": {
            "image/png": "[encoded data removed]",
            "text/plain": [
              "<Figure size 432x288 with 1 Axes>"
            ]
          },
          "metadata": {
            "needs_background": "light"
          },
          "output_type": "display_data"
        }
      ],
      "source": [
        "from matplotlib import pyplot as plt\n",
        "fig, ax = plt.subplots()\n",
        "anomaly_df.plot(legend=False, ax=ax)\n",
        "plt.show()"
      ]
    },
    {
      "cell_type": "code",
      "execution_count": null,
      "metadata": {
        "colab": {
          "base_uri": "https://localhost:8080/"
        },
        "id": "c4F44Xxgb4KI",
        "outputId": "aa9fedd8-e714-4fc1-c91a-31f75572d751"
      },
      "outputs": [
        {
          "data": {
            "text/plain": [
              "4000"
            ]
          },
          "execution_count": 50,
          "metadata": {},
          "output_type": "execute_result"
        }
      ],
      "source": [
        "\n",
        "publicc, _ = test(\n",
        "  modelC_orig,\n",
        "  test_anomaly_dataset\n",
        ")\n",
        "len(publicc)\n"
      ]
    },
    {
      "cell_type": "code",
      "execution_count": null,
      "metadata": {
        "colab": {
          "base_uri": "https://localhost:8080/",
          "height": 345
        },
        "id": "Df5lvfyOsTpp",
        "outputId": "bb9eff25-2335-4f0a-f68d-81686cadfad3"
      },
      "outputs": [
        {
          "name": "stderr",
          "output_type": "stream",
          "text": [
            "/usr/local/lib/python3.7/dist-packages/seaborn/distributions.py:2619: FutureWarning: `distplot` is a deprecated function and will be removed in a future version. Please adapt your code to use either `displot` (a figure-level function with similar flexibility) or `histplot` (an axes-level function for histograms).\n",
            "  warnings.warn(msg, FutureWarning)\n"
          ]
        },
        {
          "data": {
            "image/png": "[encoded data removed]",
            "text/plain": [
              "<Figure size 432x288 with 1 Axes>"
            ]
          },
          "metadata": {
            "needs_background": "light"
          },
          "output_type": "display_data"
        }
      ],
      "source": [
        "import seaborn as sns\n",
        "train_prediction, normal_losses = predict(modelC, torch.tensor(train_dataset).float())\n",
        "sns.distplot(normal_losses, bins=50, kde=True);"
      ]
    },
    {
      "cell_type": "code",
      "execution_count": null,
      "metadata": {
        "colab": {
          "base_uri": "https://localhost:8080/",
          "height": 265
        },
        "id": "mdaNA_RYavOD",
        "outputId": "a8ecbaa1-ff33-490c-d15c-ed3371651de8"
      },
      "outputs": [
        {
          "data": {
            "image/png": "[encoded data removed]",
            "text/plain": [
              "<Figure size 432x288 with 1 Axes>"
            ]
          },
          "metadata": {
            "needs_background": "light"
          },
          "output_type": "display_data"
        }
      ],
      "source": [
        "from matplotlib import pyplot as plt\n",
        "index = 0\n",
        "plt.plot(train_prediction[index])\n",
        "plt.plot(train_dataset[index])\n",
        "plt.show()"
      ]
    },
    {
      "cell_type": "code",
      "execution_count": null,
      "metadata": {
        "colab": {
          "base_uri": "https://localhost:8080/",
          "height": 321
        },
        "id": "-oW8WOUQRT6E",
        "outputId": "d6552053-9356-4b9a-b064-6f95b9bd85fa"
      },
      "outputs": [
        {
          "name": "stderr",
          "output_type": "stream",
          "text": [
            "/usr/local/lib/python3.7/dist-packages/seaborn/distributions.py:2619: FutureWarning: `distplot` is a deprecated function and will be removed in a future version. Please adapt your code to use either `displot` (a figure-level function with similar flexibility) or `histplot` (an axes-level function for histograms).\n",
            "  warnings.warn(msg, FutureWarning)\n"
          ]
        },
        {
          "data": {
            "image/png": "[encoded data removed]",
            "text/plain": [
              "<Figure size 432x288 with 1 Axes>"
            ]
          },
          "metadata": {
            "needs_background": "light"
          },
          "output_type": "display_data"
        }
      ],
      "source": [
        "import seaborn as sns\n",
        "test_prediction, losses = predict(modelC, test_anomaly_dataset)\n",
        "loss, _ = test(modelC, test_anomaly_dataset)\n",
        "sns.distplot(loss, bins=50, kde=True);"
      ]
    },
    {
      "cell_type": "code",
      "execution_count": null,
      "metadata": {
        "colab": {
          "base_uri": "https://localhost:8080/"
        },
        "id": "iKxDaIdvfX1e",
        "outputId": "dca2e144-3ae0-4d86-86d2-136b207e1b67"
      },
      "outputs": [
        {
          "data": {
            "text/plain": [
              "5"
            ]
          },
          "execution_count": 322,
          "metadata": {},
          "output_type": "execute_result"
        }
      ],
      "source": [
        "len(test_prediction)"
      ]
    },
    {
      "cell_type": "code",
      "execution_count": null,
      "metadata": {
        "colab": {
          "base_uri": "https://localhost:8080/",
          "height": 265
        },
        "id": "xvsgPyjxa1V6",
        "outputId": "7bb825f3-122b-4107-f72c-920e52c1479b"
      },
      "outputs": [
        {
          "data": {
            "image/png": "[encoded data removed]",
            "text/plain": [
              "<Figure size 432x288 with 1 Axes>"
            ]
          },
          "metadata": {
            "needs_background": "light"
          },
          "output_type": "display_data"
        }
      ],
      "source": [
        "from matplotlib import pyplot as plt\n",
        "index = 3\n",
        "plt.plot(test_prediction[index])\n",
        "plt.plot(test_anomaly_dataset[index])\n",
        "plt.show()"
      ]
    },
    {
      "cell_type": "code",
      "execution_count": null,
      "metadata": {
        "id": "CE8pKSmLsTpq"
      },
      "outputs": [],
      "source": [
        "THRESHOLD = 0.002"
      ]
    },
    {
      "cell_type": "code",
      "execution_count": null,
      "metadata": {
        "id": "g1Aywp6vsTpq"
      },
      "outputs": [],
      "source": [
        "publicc_binary =[l > THRESHOLD for l in publicc]"
      ]
    },
    {
      "cell_type": "code",
      "execution_count": null,
      "metadata": {
        "colab": {
          "base_uri": "https://localhost:8080/"
        },
        "id": "Uaa-aRNp7Tyo",
        "outputId": "5b3a7627-9329-409c-c57f-b52f7eab01da"
      },
      "outputs": [
        {
          "data": {
            "text/plain": [
              "996"
            ]
          },
          "execution_count": 349,
          "metadata": {},
          "output_type": "execute_result"
        }
      ],
      "source": [
        "publicc_binary.count(1)"
      ]
    },
    {
      "cell_type": "code",
      "execution_count": null,
      "metadata": {
        "colab": {
          "base_uri": "https://localhost:8080/"
        },
        "id": "6DFg1RZMsTpq",
        "outputId": "98ffb511-0b82-4b70-b11a-fa26be71958f"
      },
      "outputs": [
        {
          "data": {
            "text/plain": [
              "0.8480970877898193"
            ]
          },
          "execution_count": 350,
          "metadata": {},
          "output_type": "execute_result"
        }
      ],
      "source": [
        "import sklearn\n",
        "sklearn.metrics.roc_auc_score(abnormal_label, publicc_binary)"
      ]
    },
    {
      "cell_type": "markdown",
      "metadata": {
        "id": "7H9ots04cQrf"
      },
      "source": [
        "# PrivateC"
      ]
    },
    {
      "cell_type": "code",
      "execution_count": null,
      "metadata": {
        "id": "EjOpU1GqcTMN"
      },
      "outputs": [],
      "source": [
        "anomaly_df = pd.read_csv('sensor_C_private.csv')\n",
        "abnormal_data = anomaly_df['telemetry'].tolist()\n",
        "abnormal_data = np.array(abnormal_data)\n",
        "\n",
        "test_anomaly_dataset, _, _ = create_dataset_c(abnormal_data)"
      ]
    },
    {
      "cell_type": "code",
      "execution_count": null,
      "metadata": {
        "colab": {
          "base_uri": "https://localhost:8080/"
        },
        "id": "dvSrAMTpcTMN",
        "outputId": "8e220603-c828-4a11-dfa7-bd1c8142ab81"
      },
      "outputs": [
        {
          "data": {
            "text/plain": [
              "4000"
            ]
          },
          "execution_count": 52,
          "metadata": {},
          "output_type": "execute_result"
        }
      ],
      "source": [
        "privatec, _ = test(\n",
        "  modelC_orig,\n",
        "  test_anomaly_dataset\n",
        ")\n",
        "len(privatec)"
      ]
    },
    {
      "cell_type": "markdown",
      "metadata": {
        "id": "25tDP19ZcYCY"
      },
      "source": [
        "# PublicD"
      ]
    },
    {
      "cell_type": "code",
      "execution_count": null,
      "metadata": {
        "id": "GWkhaS6SCnog"
      },
      "outputs": [],
      "source": [
        "def create_dataset_d(df):\n",
        "  \n",
        "  li = df.astype(np.float32).tolist()\n",
        "  split = list(split_list(li, 100))\n",
        "  dataset = [torch.tensor(s).unsqueeze(1).float() for s in split]\n",
        "  if(len(dataset[-1])!=100):\n",
        "    dataset.pop()\n",
        "  n_seq, seq_len, n_features = torch.stack(dataset).shape\n",
        "  return dataset, seq_len, n_features"
      ]
    },
    {
      "cell_type": "code",
      "execution_count": null,
      "metadata": {
        "id": "qHzglW3alviQ"
      },
      "outputs": [],
      "source": [
        "def create_sequences_d(df, time_steps=100):\n",
        "    values = df.astype(np.float32).tolist()\n",
        "    output = []\n",
        "    for i in range(0, len(values) - time_steps + 1, 1):\n",
        "        output.append(values[i : (i + time_steps)])\n",
        "    return np.stack(output)"
      ]
    },
    {
      "cell_type": "code",
      "execution_count": null,
      "metadata": {
        "id": "KfQB2siOcYCY"
      },
      "outputs": [],
      "source": [
        "df_n = pd.read_csv('sensor_D_normal.csv')\n",
        "normal_data = df_n['telemetry'].tolist()\n",
        "normal_data = np.array(normal_data)\n",
        "normal_dataset = create_sequences_d(normal_data)\n",
        "train_dataset, val_dataset = train_test_split(\n",
        "  normal_dataset,\n",
        "  test_size=0.15, shuffle=True, random_state=8\n",
        ")"
      ]
    },
    {
      "cell_type": "code",
      "execution_count": null,
      "metadata": {
        "colab": {
          "base_uri": "https://localhost:8080/",
          "height": 265
        },
        "id": "4nLPn2TlBFZe",
        "outputId": "8026754a-acc8-439b-d95b-c0839a508217"
      },
      "outputs": [
        {
          "data": {
            "image/png": "[encoded data removed]",
            "text/plain": [
              "<Figure size 432x288 with 1 Axes>"
            ]
          },
          "metadata": {
            "needs_background": "light"
          },
          "output_type": "display_data"
        }
      ],
      "source": [
        "from matplotlib import pyplot as plt\n",
        "fig, ax = plt.subplots()\n",
        "df_n.plot(legend=False, ax=ax)\n",
        "plt.show()"
      ]
    },
    {
      "cell_type": "code",
      "execution_count": null,
      "metadata": {
        "colab": {
          "base_uri": "https://localhost:8080/",
          "height": 265
        },
        "id": "hrkl-So1BQxK",
        "outputId": "49dff1b3-eb72-4674-a07c-a11cee33a943"
      },
      "outputs": [
        {
          "data": {
            "image/png": "[encoded data removed]",
            "text/plain": [
              "<Figure size 432x288 with 1 Axes>"
            ]
          },
          "metadata": {
            "needs_background": "light"
          },
          "output_type": "display_data"
        }
      ],
      "source": [
        "from matplotlib import pyplot as plt\n",
        "fig, ax = plt.subplots()\n",
        "anomaly_df.plot(legend=False, ax=ax)\n",
        "plt.show()"
      ]
    },
    {
      "cell_type": "code",
      "execution_count": null,
      "metadata": {
        "id": "j-WBdzrwHccm"
      },
      "outputs": [],
      "source": [
        "import copy\n",
        "def train_model(model, train_dataset, val_dataset, n_epochs):\n",
        "  optimizer = torch.optim.Adam(model.parameters(), lr=5*1e-4)\n",
        "  scheduler = torch.optim.lr_scheduler.ReduceLROnPlateau(optimizer, mode='min', factor=0.5, patience=20, min_lr = 1e-6, verbose=True)\n",
        "  criterion = nn.L1Loss(reduction='sum').to(device)\n",
        "  history = dict(train=[], val=[])\n",
        "  best_model_wts = copy.deepcopy(model.state_dict())\n",
        "  best_loss = 10000.0\n",
        "  for epoch in range(1, n_epochs + 1):\n",
        "    model = model.train()\n",
        "    train_losses = []\n",
        "    for seq_true in train_dataset:\n",
        "      optimizer.zero_grad()\n",
        "      seq_true = seq_true.to(device)\n",
        "      seq_pred = model(seq_true)\n",
        "      loss = criterion(seq_pred, seq_true)\n",
        "      l1_lambda = 0.05\n",
        "      \n",
        "      l1_norm = sum(p.abs().sum()\n",
        "                    for p in model.parameters())\n",
        "\n",
        "      #loss = loss + l1_lambda * l1_norm\n",
        "      loss.backward()\n",
        "      #torch.nn.utils.clip_grad_norm_(model.parameters(), 0.5)\n",
        "      optimizer.step()\n",
        "      train_losses.append(loss.item())\n",
        "    \n",
        "    val_losses = []\n",
        "    model = model.eval()\n",
        "    with torch.no_grad():\n",
        "      for seq_true in val_dataset:\n",
        "        #print(seq_true.size())\n",
        "        seq_true = seq_true.to(device)\n",
        "        seq_pred = model(seq_true)\n",
        "        loss = criterion(seq_pred, seq_true)\n",
        "        l1_lambda = 0.05\n",
        "        l1_norm = sum(p.abs().sum()\n",
        "                      for p in model.parameters())\n",
        "\n",
        "        #loss = loss + l1_lambda * l1_norm\n",
        "        val_losses.append(loss.item())\n",
        "    train_loss = np.mean(train_losses)\n",
        "    val_loss = np.mean(val_losses)\n",
        "    scheduler.step(train_loss)\n",
        "    history['train'].append(train_loss)\n",
        "    history['val'].append(val_loss)\n",
        "    if val_loss < best_loss:\n",
        "      print('save')\n",
        "      best_loss = val_loss\n",
        "      best_model_wts = copy.deepcopy(model.state_dict())\n",
        "    print(f'Epoch {epoch}: train loss {train_loss} val loss {val_loss}')\n",
        "  model.load_state_dict(best_model_wts)\n",
        "  return model.eval(), history"
      ]
    },
    {
      "cell_type": "code",
      "execution_count": null,
      "metadata": {
        "colab": {
          "base_uri": "https://localhost:8080/"
        },
        "id": "zm0MRwY_cYCZ",
        "outputId": "bd31dd74-94ff-4725-95dc-f2e63e0611dd"
      },
      "outputs": [
        {
          "name": "stdout",
          "output_type": "stream",
          "text": [
            "save\n",
            "Epoch 1: train loss 1.7887334382887614 val loss 0.3781915464275461\n",
            "save\n",
            "Epoch 2: train loss 0.5639946363234924 val loss 0.29009420108452116\n",
            "Epoch 3: train loss 0.4707166258308847 val loss 0.34700990595120035\n",
            "save\n",
            "Epoch 4: train loss 0.4042228410557165 val loss 0.28636829730132213\n",
            "save\n",
            "Epoch 5: train loss 0.3438981084247767 val loss 0.2536872163665094\n",
            "save\n",
            "Epoch 6: train loss 0.3239684911855197 val loss 0.23369885048420308\n",
            "Epoch 7: train loss 0.3162982550212892 val loss 0.2628590408846629\n",
            "Epoch 8: train loss 0.3009644866999933 val loss 0.31697651765329377\n",
            "save\n",
            "Epoch 9: train loss 0.2972650273624113 val loss 0.19061293862134718\n",
            "Epoch 10: train loss 0.28788964970637176 val loss 0.2490402418646595\n",
            "Epoch 11: train loss 0.2795212917661263 val loss 0.209593149826681\n",
            "save\n",
            "Epoch 12: train loss 0.2767670954435559 val loss 0.14584540849109348\n",
            "Epoch 13: train loss 0.27814713549816 val loss 0.14934995048623576\n",
            "Epoch 14: train loss 0.27038060803029496 val loss 0.24967839134682854\n",
            "save\n",
            "Epoch 15: train loss 0.2688929068840156 val loss 0.12407636485225577\n",
            "Epoch 16: train loss 0.26410063401622286 val loss 0.3755255593098611\n",
            "Epoch 17: train loss 0.2566127765734317 val loss 0.21806884969738746\n",
            "Epoch 18: train loss 0.2570316847098076 val loss 0.14987917197979897\n",
            "Epoch 19: train loss 0.25503333847401505 val loss 0.13876477805830592\n",
            "Epoch 20: train loss 0.25068583748603274 val loss 0.19914273035040292\n",
            "Epoch 21: train loss 0.24555956231335463 val loss 0.21219877359106673\n",
            "Epoch 22: train loss 0.2483084751387774 val loss 0.22581195817005148\n",
            "save\n",
            "Epoch 23: train loss 0.2434953445852813 val loss 0.09404964083962017\n",
            "Epoch 24: train loss 0.2437094019126084 val loss 0.17674832335478968\n",
            "Epoch 25: train loss 0.23088863171258214 val loss 0.37131789319520947\n",
            "Epoch 26: train loss 0.24687816096564472 val loss 0.20521285022191293\n",
            "Epoch 27: train loss 0.241903826872171 val loss 0.10527111057469027\n",
            "Epoch 28: train loss 0.22910535264823395 val loss 0.09524134094480702\n",
            "Epoch 29: train loss 0.2326281899365328 val loss 0.23881782945111502\n",
            "Epoch 30: train loss 0.23391877486039017 val loss 0.28287366640081796\n",
            "Epoch 31: train loss 0.2396591911881657 val loss 0.1153277560389585\n",
            "Epoch 32: train loss 0.2223200246691704 val loss 0.24724595452384127\n",
            "Epoch 33: train loss 0.23113959285162264 val loss 0.20378354613443644\n",
            "Epoch 34: train loss 0.23017760558148562 val loss 0.2947884868088958\n",
            "Epoch 35: train loss 0.22534519353155363 val loss 0.09409630513019698\n",
            "Epoch 36: train loss 0.22703549803818687 val loss 0.3180073232387753\n",
            "Epoch 37: train loss 0.22319635844836802 val loss 0.12383094637228145\n",
            "Epoch 38: train loss 0.2210138808367616 val loss 0.1395564449490975\n",
            "Epoch 39: train loss 0.22305576205253602 val loss 0.3022439698521182\n",
            "Epoch 40: train loss 0.2204207862080154 val loss 0.20207411565368982\n",
            "Epoch 41: train loss 0.22491079533504227 val loss 0.1727959257807377\n",
            "save\n",
            "Epoch 42: train loss 0.21437489092350007 val loss 0.09373329740634068\n",
            "Epoch 43: train loss 0.22136954357058314 val loss 0.15517340446833514\n",
            "Epoch 44: train loss 0.22082059514724603 val loss 0.09771345573649418\n",
            "Epoch 45: train loss 0.21870663698952078 val loss 0.26878759143449704\n",
            "Epoch 46: train loss 0.21196213311563103 val loss 0.12210476784397373\n",
            "save\n",
            "Epoch 47: train loss 0.21458293558177302 val loss 0.08704840265017905\n",
            "Epoch 48: train loss 0.20734383721472854 val loss 0.14220768927956084\n",
            "Epoch 49: train loss 0.2110436565290063 val loss 0.18937227179964097\n",
            "Epoch 50: train loss 0.21339634838750807 val loss 0.16152437527974448\n",
            "Epoch 51: train loss 0.21013075186539504 val loss 0.1215514707908356\n",
            "Epoch 52: train loss 0.21463677981647394 val loss 0.31411977909165895\n",
            "Epoch 53: train loss 0.21130716833522764 val loss 0.3308953697161137\n",
            "save\n",
            "Epoch 54: train loss 0.21124902208477764 val loss 0.08418326512229242\n",
            "Epoch 55: train loss 0.21262251767566648 val loss 0.09606210619425602\n",
            "Epoch 56: train loss 0.20437753720808838 val loss 0.09115619982460992\n",
            "Epoch 57: train loss 0.20480705514802772 val loss 0.10995126499546518\n",
            "Epoch 58: train loss 0.21182203580767422 val loss 0.14622261584233895\n",
            "Epoch 59: train loss 0.20486434016187313 val loss 0.3700167010728118\n",
            "Epoch 60: train loss 0.2084514879826772 val loss 0.12570107569225686\n",
            "Epoch 61: train loss 0.20892321134017686 val loss 0.23983460064414594\n",
            "Epoch 62: train loss 0.2021862613700204 val loss 0.27600207989164394\n",
            "Epoch 63: train loss 0.20709635645656263 val loss 0.09123613622834642\n",
            "Epoch 64: train loss 0.2044341024200795 val loss 0.10064934169074043\n",
            "Epoch 65: train loss 0.20141744828325206 val loss 0.1620953887772503\n",
            "Epoch 66: train loss 0.20222857324248653 val loss 0.19842253471735857\n",
            "Epoch 67: train loss 0.2043088407587197 val loss 0.2007902257448192\n",
            "Epoch 68: train loss 0.19897897372306403 val loss 0.08890039657803177\n",
            "Epoch 69: train loss 0.20396472066640853 val loss 0.15054761177058415\n",
            "Epoch 70: train loss 0.19990847173888804 val loss 0.1939081931285721\n",
            "Epoch 71: train loss 0.198663572663978 val loss 0.09551206795717601\n",
            "Epoch 72: train loss 0.19885943683527282 val loss 0.10684166923701334\n",
            "save\n",
            "Epoch 73: train loss 0.19739274657883887 val loss 0.07795545194360563\n",
            "Epoch 74: train loss 0.1975047860357721 val loss 0.10424937961770477\n",
            "Epoch 75: train loss 0.19887650555978387 val loss 0.35622841777275505\n",
            "Epoch 76: train loss 0.20159114275948475 val loss 0.0982189818823652\n",
            "Epoch 77: train loss 0.19514326839628865 val loss 0.10329166376333443\n",
            "Epoch 78: train loss 0.19841817753799892 val loss 0.0862229715148322\n",
            "Epoch 79: train loss 0.19401992907968618 val loss 0.2340523897886848\n",
            "Epoch 80: train loss 0.19763510919223398 val loss 0.09225518912148419\n",
            "Epoch 81: train loss 0.1975783781227419 val loss 0.13284586802375117\n",
            "Epoch 82: train loss 0.19662200965113558 val loss 0.14709638105593711\n",
            "Epoch 83: train loss 0.19612847932819594 val loss 0.08686862203428786\n",
            "Epoch 84: train loss 0.19584107989982022 val loss 0.10068770492677208\n",
            "Epoch 85: train loss 0.19275784719798525 val loss 0.08014481130549662\n",
            "Epoch 86: train loss 0.1908942638564918 val loss 0.3602729724179641\n",
            "Epoch 87: train loss 0.1920253915049262 val loss 0.2920119635206904\n",
            "Epoch 88: train loss 0.18719115300198733 val loss 0.078326190404183\n",
            "Epoch 89: train loss 0.19612007204253795 val loss 0.16627538904583425\n",
            "Epoch 90: train loss 0.19293714405621512 val loss 0.1358309935608642\n",
            "Epoch 91: train loss 0.19265373157242596 val loss 0.1546243496364255\n",
            "Epoch 92: train loss 0.19388524617178965 val loss 0.18815966204201862\n",
            "Epoch 93: train loss 0.1923856496053227 val loss 0.18054580445484006\n",
            "Epoch 94: train loss 0.19768027511693664 val loss 0.3558277669284555\n",
            "Epoch 95: train loss 0.19453256163051572 val loss 0.15331184492408514\n",
            "Epoch 96: train loss 0.1919320251982091 val loss 0.3833233270999625\n",
            "Epoch 97: train loss 0.19234064067319287 val loss 0.14251538360719201\n",
            "Epoch 98: train loss 0.1918135157075979 val loss 0.23256627875838062\n",
            "Epoch 99: train loss 0.19199604816355947 val loss 0.10810946117488028\n",
            "Epoch 100: train loss 0.19049015883672035 val loss 0.11544722661697607\n",
            "Epoch 101: train loss 0.19569888064416788 val loss 0.10856964691079778\n",
            "save\n",
            "Epoch 102: train loss 0.18960476840956736 val loss 0.0756057971101299\n",
            "Epoch 103: train loss 0.1877739625462031 val loss 0.09702294450297916\n",
            "Epoch 104: train loss 0.19242424873982444 val loss 0.09010092817622123\n",
            "Epoch 105: train loss 0.19021874322729596 val loss 0.10351796616181481\n",
            "Epoch 106: train loss 0.18452183450177564 val loss 0.18271774210804087\n",
            "Epoch 107: train loss 0.18598272315526412 val loss 0.3469738278457587\n",
            "Epoch 108: train loss 0.19112977673441678 val loss 0.19414395136798887\n",
            "Epoch 109: train loss 0.1856888108839423 val loss 0.11261298287686684\n",
            "Epoch 110: train loss 0.18053877790600567 val loss 0.10567278427471646\n",
            "Epoch 111: train loss 0.18819026398961827 val loss 0.2753678228643587\n",
            "save\n",
            "Epoch 112: train loss 0.1914023295297461 val loss 0.07427900557895359\n",
            "Epoch 113: train loss 0.18554092600183972 val loss 0.2463913366948958\n",
            "Epoch 114: train loss 0.19111660256729288 val loss 0.1942584516047288\n",
            "Epoch 115: train loss 0.18350204360687128 val loss 0.1475868525264932\n",
            "Epoch 116: train loss 0.1904056349548243 val loss 0.17464295151136477\n",
            "Epoch 117: train loss 0.1848099955310256 val loss 0.36157489923550357\n",
            "Epoch 118: train loss 0.1796733703148567 val loss 0.10312164987591531\n",
            "Epoch 119: train loss 0.18262566727096752 val loss 0.15776881339738694\n",
            "Epoch 120: train loss 0.18450991359807678 val loss 0.17967892536442343\n",
            "Epoch 121: train loss 0.18615218017060878 val loss 0.1025803567980119\n",
            "Epoch 122: train loss 0.18639427893242594 val loss 0.07833343501285397\n",
            "Epoch 123: train loss 0.18509719899650348 val loss 0.1775805658573727\n",
            "save\n",
            "Epoch 124: train loss 0.1842155850539773 val loss 0.07111938794453938\n",
            "Epoch 125: train loss 0.181962412115881 val loss 0.11440953790998573\n",
            "Epoch 126: train loss 0.18745497220148474 val loss 0.11704900524884963\n",
            "Epoch 127: train loss 0.18162633554410126 val loss 0.16061108761268267\n",
            "Epoch 128: train loss 0.18498532090146663 val loss 0.10947961215492633\n",
            "Epoch 129: train loss 0.18825750792935744 val loss 0.2265218684999205\n",
            "save\n",
            "Epoch 130: train loss 0.18168082724688417 val loss 0.06977857588578185\n",
            "Epoch 131: train loss 0.17896684486482103 val loss 0.1290645399253717\n",
            "Epoch 132: train loss 0.18217258567022065 val loss 0.10065100147283906\n",
            "Epoch 133: train loss 0.18282864119036724 val loss 0.08085566344592783\n",
            "Epoch 134: train loss 0.18058530173059237 val loss 0.24365345922877177\n",
            "Epoch 135: train loss 0.18339737668886022 val loss 0.15680567051866928\n",
            "Epoch 136: train loss 0.18661301411309486 val loss 0.1392212921766926\n",
            "Epoch 137: train loss 0.17957938922158742 val loss 0.22506344647144527\n",
            "Epoch 138: train loss 0.1821223050103349 val loss 0.09472759050145138\n",
            "Epoch 139: train loss 0.17668938033156475 val loss 0.18142705755553942\n",
            "Epoch 140: train loss 0.18156770404617664 val loss 0.10476063681449249\n",
            "Epoch 141: train loss 0.17741315582041012 val loss 0.13567163575467445\n",
            "Epoch 142: train loss 0.18054178296509435 val loss 0.15966230373588397\n",
            "Epoch 143: train loss 0.17627093347452455 val loss 0.1260418844737595\n",
            "Epoch 144: train loss 0.18100320903931633 val loss 0.2388863687892612\n",
            "Epoch 145: train loss 0.17985650909654163 val loss 0.31753387168157016\n",
            "Epoch 146: train loss 0.17911999195309009 val loss 0.23176859837355945\n",
            "Epoch 147: train loss 0.17680260498644942 val loss 0.08241002922721333\n",
            "Epoch 148: train loss 0.17934516754190802 val loss 0.13702336446844415\n",
            "Epoch 149: train loss 0.17423330027673203 val loss 0.09021487696279439\n",
            "Epoch 150: train loss 0.18176254758895455 val loss 0.08927377450952141\n"
          ]
        }
      ],
      "source": [
        "modelD = Autoencoder(100, 1, 4)\n",
        "modelD = modelD.to(device)\n",
        "modelD, history = train_model(\n",
        "  modelD,\n",
        "  torch.tensor(train_dataset).float(),\n",
        "  torch.tensor(val_dataset).float(),\n",
        "  n_epochs=150\n",
        ")\n",
        "# _, loss = test(modelD, val_dataset)\n",
        "# loss"
      ]
    },
    {
      "cell_type": "code",
      "execution_count": null,
      "metadata": {
        "colab": {
          "base_uri": "https://localhost:8080/"
        },
        "id": "aEmIFr8_39Wl",
        "outputId": "503e649b-b3ca-492b-b647-b1af4c92bfd4"
      },
      "outputs": [
        {
          "data": {
            "text/plain": [
              "1.38768771162136"
            ]
          },
          "execution_count": 25,
          "metadata": {},
          "output_type": "execute_result"
        }
      ],
      "source": [
        "_, loss= test(modelD, torch.tensor(val_dataset).float())\n",
        "loss"
      ]
    },
    {
      "cell_type": "code",
      "execution_count": null,
      "metadata": {
        "id": "PrWojvZEMASe"
      },
      "outputs": [],
      "source": [
        "torch.save(modelD, 'modelD_0514_1.pth')"
      ]
    },
    {
      "cell_type": "code",
      "execution_count": null,
      "metadata": {
        "id": "wXlgtnS4G05n"
      },
      "outputs": [],
      "source": [
        "modelD_orig = torch.load('modelD.pth')\n",
        "modelD_orig = modelD_orig.to(device)\n",
        "# _, loss= test(modelD_orig, val_dataset)\n",
        "# loss"
      ]
    },
    {
      "cell_type": "code",
      "execution_count": null,
      "metadata": {
        "id": "c8y-6s59cYCZ"
      },
      "outputs": [],
      "source": [
        "anomaly_df = pd.read_csv('sensor_D_public.csv')\n",
        "abnormal_data = anomaly_df['telemetry'].tolist()\n",
        "abnormal_label = anomaly_df['label'].tolist()\n",
        "abnormal_data = np.array(abnormal_data)\n",
        "\n",
        "test_anomaly_dataset, _, _ = create_dataset_d(abnormal_data)"
      ]
    },
    {
      "cell_type": "code",
      "execution_count": null,
      "metadata": {
        "colab": {
          "base_uri": "https://localhost:8080/"
        },
        "id": "zUsVtbiacYCZ",
        "outputId": "113e5f28-4eae-4227-d435-7ff36400ef8a"
      },
      "outputs": [
        {
          "data": {
            "text/plain": [
              "4000"
            ]
          },
          "execution_count": 58,
          "metadata": {},
          "output_type": "execute_result"
        }
      ],
      "source": [
        "publicd, _ = test(\n",
        "  modelD_orig,\n",
        "  test_anomaly_dataset\n",
        ")\n",
        "len(publicd)\n"
      ]
    },
    {
      "cell_type": "code",
      "execution_count": null,
      "metadata": {
        "colab": {
          "base_uri": "https://localhost:8080/"
        },
        "id": "CR4zOmnIsVZx",
        "outputId": "18aabee0-659f-4d4f-b2f0-e48cb905e93a"
      },
      "outputs": [
        {
          "name": "stderr",
          "output_type": "stream",
          "text": [
            "/usr/local/lib/python3.7/dist-packages/seaborn/distributions.py:2619: FutureWarning: `distplot` is a deprecated function and will be removed in a future version. Please adapt your code to use either `displot` (a figure-level function with similar flexibility) or `histplot` (an axes-level function for histograms).\n",
            "  warnings.warn(msg, FutureWarning)\n"
          ]
        },
        {
          "data": {
            "image/png": "[encoded data removed]",
            "text/plain": [
              "<Figure size 432x288 with 1 Axes>"
            ]
          },
          "metadata": {
            "needs_background": "light"
          },
          "output_type": "display_data"
        }
      ],
      "source": [
        "import seaborn as sns\n",
        "train_prediction, normal_losses = predict(modelD, torch.tensor(train_dataset).float())\n",
        "sns.distplot(normal_losses, bins=50, kde=True);"
      ]
    },
    {
      "cell_type": "code",
      "execution_count": null,
      "metadata": {
        "colab": {
          "base_uri": "https://localhost:8080/"
        },
        "id": "9pBy-xsUNk04",
        "outputId": "2c068269-23c6-4119-a3af-ad22e2916846"
      },
      "outputs": [
        {
          "data": {
            "image/png": "[encoded data removed]",
            "text/plain": [
              "<Figure size 432x288 with 1 Axes>"
            ]
          },
          "metadata": {
            "needs_background": "light"
          },
          "output_type": "display_data"
        }
      ],
      "source": [
        "from matplotlib import pyplot as plt\n",
        "index = 200\n",
        "plt.plot(train_prediction[index])\n",
        "plt.plot(train_dataset[index])\n",
        "plt.show()"
      ]
    },
    {
      "cell_type": "code",
      "execution_count": null,
      "metadata": {
        "colab": {
          "base_uri": "https://localhost:8080/"
        },
        "id": "LhFY52vKyYJo",
        "outputId": "85764460-7cf8-41e9-9911-e5bd74b2362a"
      },
      "outputs": [
        {
          "name": "stderr",
          "output_type": "stream",
          "text": [
            "/usr/local/lib/python3.7/dist-packages/seaborn/distributions.py:2619: FutureWarning: `distplot` is a deprecated function and will be removed in a future version. Please adapt your code to use either `displot` (a figure-level function with similar flexibility) or `histplot` (an axes-level function for histograms).\n",
            "  warnings.warn(msg, FutureWarning)\n"
          ]
        },
        {
          "data": {
            "image/png": "[encoded data removed]",
            "text/plain": [
              "<Figure size 432x288 with 1 Axes>"
            ]
          },
          "metadata": {
            "needs_background": "light"
          },
          "output_type": "display_data"
        }
      ],
      "source": [
        "import seaborn as sns\n",
        "test_prediction, losses = predict(modelD, test_anomaly_dataset)\n",
        "sns.distplot(losses, bins=50, kde=True);"
      ]
    },
    {
      "cell_type": "code",
      "execution_count": null,
      "metadata": {
        "colab": {
          "base_uri": "https://localhost:8080/"
        },
        "id": "vnwU4wXFROlM",
        "outputId": "9c854e33-7c16-43b3-ee39-f5f2dedc3035"
      },
      "outputs": [
        {
          "data": {
            "image/png": "[encoded data removed]",
            "text/plain": [
              "<Figure size 432x288 with 1 Axes>"
            ]
          },
          "metadata": {
            "needs_background": "light"
          },
          "output_type": "display_data"
        }
      ],
      "source": [
        "from matplotlib import pyplot as plt\n",
        "index = 10\n",
        "plt.plot(test_prediction[index])\n",
        "plt.plot(test_anomaly_dataset[index])\n",
        "plt.show()"
      ]
    },
    {
      "cell_type": "code",
      "execution_count": null,
      "metadata": {
        "id": "A1VrSJC7sVZx"
      },
      "outputs": [],
      "source": [
        "THRESHOLD = 0.005#max(normal_losses)"
      ]
    },
    {
      "cell_type": "code",
      "execution_count": null,
      "metadata": {
        "id": "w_Ku1BoIsVZx"
      },
      "outputs": [],
      "source": [
        "publicd_binary =[int(l > THRESHOLD) for l in publicd]"
      ]
    },
    {
      "cell_type": "code",
      "execution_count": null,
      "metadata": {
        "colab": {
          "base_uri": "https://localhost:8080/"
        },
        "id": "BRs0tX6ut9o5",
        "outputId": "a37b0ef0-0795-4f72-fee9-ee2d3cdf66d3"
      },
      "outputs": [
        {
          "data": {
            "text/plain": [
              "37"
            ]
          },
          "execution_count": 150,
          "metadata": {},
          "output_type": "execute_result"
        }
      ],
      "source": [
        "publicd_binary.count(1)"
      ]
    },
    {
      "cell_type": "code",
      "execution_count": null,
      "metadata": {
        "colab": {
          "base_uri": "https://localhost:8080/"
        },
        "id": "JmisrHxpsVZx",
        "outputId": "b10562f2-24e2-473e-8fae-790eced204c1"
      },
      "outputs": [
        {
          "data": {
            "text/plain": [
              "0.6944838705661176"
            ]
          },
          "execution_count": 151,
          "metadata": {},
          "output_type": "execute_result"
        }
      ],
      "source": [
        "import sklearn\n",
        "sklearn.metrics.roc_auc_score(abnormal_label, publicd_binary)"
      ]
    },
    {
      "cell_type": "markdown",
      "metadata": {
        "id": "ze7plo3ZcYCZ"
      },
      "source": [
        "# PrivateD"
      ]
    },
    {
      "cell_type": "code",
      "execution_count": null,
      "metadata": {
        "id": "0YJimwVPcYCZ"
      },
      "outputs": [],
      "source": [
        "anomaly_df = pd.read_csv('sensor_D_private.csv')\n",
        "abnormal_data = anomaly_df['telemetry'].tolist()\n",
        "abnormal_data = np.array(abnormal_data)\n",
        "\n",
        "test_anomaly_dataset, _, _ = create_dataset_d(abnormal_data)"
      ]
    },
    {
      "cell_type": "code",
      "execution_count": null,
      "metadata": {
        "colab": {
          "base_uri": "https://localhost:8080/"
        },
        "id": "-UUW1QaRcYCa",
        "outputId": "a738a788-4e24-4794-a940-b572388d07da"
      },
      "outputs": [
        {
          "data": {
            "text/plain": [
              "4000"
            ]
          },
          "execution_count": 60,
          "metadata": {},
          "output_type": "execute_result"
        }
      ],
      "source": [
        "privated, _ = test(\n",
        "  modelD_orig,\n",
        "  test_anomaly_dataset\n",
        ")\n",
        "len(privated)"
      ]
    },
    {
      "cell_type": "markdown",
      "metadata": {
        "id": "VLVca2LNcYlY"
      },
      "source": [
        "# PublicE"
      ]
    },
    {
      "cell_type": "code",
      "execution_count": null,
      "metadata": {
        "id": "6griUN-WC02v"
      },
      "outputs": [],
      "source": [
        "def create_dataset_e(df):\n",
        "  \n",
        "  li = df.astype(np.float32).tolist()\n",
        "  split = list(split_list(li, 200))\n",
        "  dataset = [torch.tensor(s).unsqueeze(1).float() for s in split]\n",
        "  if(len(dataset[-1])!=200):\n",
        "    dataset.pop()\n",
        "  n_seq, seq_len, n_features = torch.stack(dataset).shape\n",
        "  return dataset, seq_len, n_features"
      ]
    },
    {
      "cell_type": "code",
      "execution_count": null,
      "metadata": {
        "id": "uluOYldoMTTh"
      },
      "outputs": [],
      "source": [
        "def create_sequences_e(df, time_steps=200):\n",
        "    values = df.astype(np.float32).tolist()\n",
        "    output = []\n",
        "    for i in range(0, len(values) - time_steps + 1, 1):\n",
        "        output.append(values[i : (i + time_steps)])\n",
        "    return np.stack(output)"
      ]
    },
    {
      "cell_type": "code",
      "execution_count": null,
      "metadata": {
        "id": "3-lUreJDMkav"
      },
      "outputs": [],
      "source": [
        "df_n = pd.read_csv('sensor_E_normal.csv')\n",
        "normal_data = df_n['telemetry'].tolist()\n",
        "normal_data = np.array(normal_data)\n",
        "normal_dataset = create_sequences_e(normal_data)"
      ]
    },
    {
      "cell_type": "code",
      "execution_count": null,
      "metadata": {
        "colab": {
          "base_uri": "https://localhost:8080/"
        },
        "id": "a_-dpgwMcYlY",
        "outputId": "483fa6c6-628e-4d70-9cab-8304673ae71d"
      },
      "outputs": [
        {
          "name": "stdout",
          "output_type": "stream",
          "text": [
            "(1797, 200) (450, 200)\n"
          ]
        }
      ],
      "source": [
        "\n",
        "train_dataset, val_dataset = train_test_split(\n",
        "  normal_dataset,\n",
        "  test_size=0.2, shuffle=True, random_state = 4\n",
        ")\n",
        "print(train_dataset.shape, val_dataset.shape)"
      ]
    },
    {
      "cell_type": "code",
      "execution_count": null,
      "metadata": {
        "id": "wy_pqCaOME6I"
      },
      "outputs": [],
      "source": [
        "import copy\n",
        "def train_model(model, train_dataset, val_dataset, n_epochs):\n",
        "  optimizer = torch.optim.Adam(model.parameters(), lr=5*1e-4)\n",
        "  scheduler = torch.optim.lr_scheduler.ReduceLROnPlateau(optimizer, mode='min', factor=0.2, patience=5, min_lr = 1e-6, verbose = True)\n",
        "  criterion = nn.L1Loss(reduction='sum').to(device)\n",
        "  history = dict(train=[], val=[])\n",
        "  best_model_wts = copy.deepcopy(model.state_dict())\n",
        "  best_loss = 10000.0\n",
        "  for epoch in range(1, n_epochs + 1):\n",
        "    model = model.train()\n",
        "    train_losses = []\n",
        "    for seq_true in train_dataset:\n",
        "      optimizer.zero_grad()\n",
        "      seq_true = seq_true.to(device)\n",
        "      seq_pred = model(seq_true)\n",
        "      loss = criterion(seq_pred.reshape((-1)), seq_true.reshape((-1)))\n",
        "      l1_lambda = 0.05\n",
        "      l1_norm = sum(p.abs().sum()\n",
        "                    for p in model.parameters())\n",
        "\n",
        "      #loss = loss + l1_lambda * l1_norm\n",
        "      loss.backward()\n",
        "      #torch.nn.utils.clip_grad_norm_(model.parameters(), 0.5)\n",
        "      optimizer.step()\n",
        "      train_losses.append(loss.item())\n",
        "    \n",
        "    val_losses = []\n",
        "    model = model.eval()\n",
        "    with torch.no_grad():\n",
        "      for seq_true in val_dataset:\n",
        "        #print(seq_true.size())\n",
        "        seq_true = seq_true.to(device)\n",
        "        seq_pred = model(seq_true)\n",
        "        loss = criterion(seq_pred.reshape((-1)), seq_true.reshape((-1)))\n",
        "        l1_lambda = 0.05\n",
        "        l1_norm = sum(p.abs().sum()\n",
        "                      for p in model.parameters())\n",
        "\n",
        "        #loss = loss + l1_lambda * l1_norm\n",
        "        val_losses.append(loss.item())\n",
        "    train_loss = np.mean(train_losses)\n",
        "    val_loss = np.mean(val_losses)\n",
        "    scheduler.step(train_loss)\n",
        "    history['train'].append(train_loss)\n",
        "    history['val'].append(val_loss)\n",
        "    if val_loss < best_loss:\n",
        "      print('save')\n",
        "      best_loss = val_loss\n",
        "      best_model_wts = copy.deepcopy(model.state_dict())\n",
        "    print(f'Epoch {epoch}: train loss {train_loss} val loss {val_loss}')\n",
        "  model.load_state_dict(best_model_wts)\n",
        "  return model.eval(), history"
      ]
    },
    {
      "cell_type": "code",
      "execution_count": null,
      "metadata": {
        "id": "rP1piJc_cYlY"
      },
      "outputs": [],
      "source": [
        "modelE = Autoencoder(200, 1, 4)\n",
        "modelE = modelE.to(device)\n",
        "modelE, history = train_model(\n",
        "  modelE,\n",
        "  torch.tensor(train_dataset).float(),\n",
        "  torch.tensor(val_dataset).float(),\n",
        "  n_epochs=150\n",
        ")\n",
        "_, loss= test(modelE, val_dataset)\n",
        "loss"
      ]
    },
    {
      "cell_type": "code",
      "execution_count": null,
      "metadata": {
        "id": "PtWjQJ9VM9Ls"
      },
      "outputs": [],
      "source": [
        "torch.save(modelE, 'modelE_0514.pth')"
      ]
    },
    {
      "cell_type": "code",
      "execution_count": null,
      "metadata": {
        "colab": {
          "base_uri": "https://localhost:8080/"
        },
        "id": "MtgsrRLdKXgc",
        "outputId": "6598b3af-4236-4211-dc5c-b0d9ff6fe363"
      },
      "outputs": [
        {
          "data": {
            "text/plain": [
              "3.335043674574958"
            ]
          },
          "execution_count": 71,
          "metadata": {},
          "output_type": "execute_result"
        }
      ],
      "source": [
        "modelE_orig = torch.load('modelE.pth')\n",
        "modelE_orig = modelE_orig.to(device)\n",
        "_, loss= test(modelE_orig, torch.tensor(val_dataset).float())\n",
        "loss"
      ]
    },
    {
      "cell_type": "code",
      "execution_count": null,
      "metadata": {
        "id": "CuxC6MGEcYlZ"
      },
      "outputs": [],
      "source": [
        "anomaly_df = pd.read_csv('sensor_E_public.csv')\n",
        "abnormal_data = anomaly_df['telemetry'].tolist()\n",
        "abnormal_label = anomaly_df['label'].tolist()\n",
        "abnormal_data = np.array(abnormal_data)\n",
        "\n",
        "test_anomaly_dataset, _, _ = create_dataset_e(abnormal_data)"
      ]
    },
    {
      "cell_type": "code",
      "execution_count": null,
      "metadata": {
        "colab": {
          "base_uri": "https://localhost:8080/"
        },
        "id": "9KFPAmKTcYlZ",
        "outputId": "7cc70444-d318-4bf5-c1bd-da38999d5aec"
      },
      "outputs": [
        {
          "data": {
            "text/plain": [
              "4000"
            ]
          },
          "execution_count": 73,
          "metadata": {},
          "output_type": "execute_result"
        }
      ],
      "source": [
        "publice, _ = test(\n",
        "  modelE_orig,\n",
        "  test_anomaly_dataset\n",
        ")\n",
        "len(publice)\n"
      ]
    },
    {
      "cell_type": "code",
      "execution_count": null,
      "metadata": {
        "colab": {
          "base_uri": "https://localhost:8080/",
          "height": 320
        },
        "id": "ASw_9Ec9sXqT",
        "outputId": "f7d79f37-8d34-4e7a-cc44-2e6a04572584"
      },
      "outputs": [
        {
          "name": "stderr",
          "output_type": "stream",
          "text": [
            "/usr/local/lib/python3.7/dist-packages/seaborn/distributions.py:2619: FutureWarning: `distplot` is a deprecated function and will be removed in a future version. Please adapt your code to use either `displot` (a figure-level function with similar flexibility) or `histplot` (an axes-level function for histograms).\n",
            "  warnings.warn(msg, FutureWarning)\n"
          ]
        },
        {
          "data": {
            "image/png": "[encoded data removed]",
            "text/plain": [
              "<Figure size 432x288 with 1 Axes>"
            ]
          },
          "metadata": {
            "needs_background": "light"
          },
          "output_type": "display_data"
        }
      ],
      "source": [
        "import seaborn as sns\n",
        "_, normal_losses = predict(modelE, torch.tensor(train_dataset).float())\n",
        "sns.distplot(normal_losses, bins=50, kde=True);"
      ]
    },
    {
      "cell_type": "code",
      "execution_count": null,
      "metadata": {
        "id": "m8wCHV3t_WKH"
      },
      "outputs": [],
      "source": [
        "THRESHOLD = max(normal_losses)"
      ]
    },
    {
      "cell_type": "code",
      "execution_count": null,
      "metadata": {
        "colab": {
          "base_uri": "https://localhost:8080/",
          "height": 320
        },
        "id": "xuTVqjkB_RoP",
        "outputId": "77251859-0ce1-4b07-9485-2c28f96fb513"
      },
      "outputs": [
        {
          "name": "stderr",
          "output_type": "stream",
          "text": [
            "/usr/local/lib/python3.7/dist-packages/seaborn/distributions.py:2619: FutureWarning: `distplot` is a deprecated function and will be removed in a future version. Please adapt your code to use either `displot` (a figure-level function with similar flexibility) or `histplot` (an axes-level function for histograms).\n",
            "  warnings.warn(msg, FutureWarning)\n"
          ]
        },
        {
          "data": {
            "image/png": "[encoded data removed]",
            "text/plain": [
              "<Figure size 432x288 with 1 Axes>"
            ]
          },
          "metadata": {
            "needs_background": "light"
          },
          "output_type": "display_data"
        }
      ],
      "source": [
        "_, losses = predict(modelE, test_anomaly_dataset)\n",
        "sns.distplot(losses, bins=50, kde=True);"
      ]
    },
    {
      "cell_type": "code",
      "execution_count": null,
      "metadata": {
        "id": "-fQ98biYsXqT"
      },
      "outputs": [],
      "source": [
        "publice_binary =[int(l > THRESHOLD) for l in publice]"
      ]
    },
    {
      "cell_type": "code",
      "execution_count": null,
      "metadata": {
        "colab": {
          "base_uri": "https://localhost:8080/"
        },
        "id": "CKG7CyLHsXqT",
        "outputId": "d254d4f7-a1d4-4c12-bee2-3330cddd5abb"
      },
      "outputs": [
        {
          "data": {
            "text/plain": [
              "0.6864102564102564"
            ]
          },
          "execution_count": 110,
          "metadata": {},
          "output_type": "execute_result"
        }
      ],
      "source": [
        "import sklearn\n",
        "sklearn.metrics.roc_auc_score(abnormal_label, publice_binary)\n",
        "#best 0.6814102564102564"
      ]
    },
    {
      "cell_type": "markdown",
      "metadata": {
        "id": "r3ca7ndOcYlZ"
      },
      "source": [
        "# PrivateE"
      ]
    },
    {
      "cell_type": "code",
      "execution_count": null,
      "metadata": {
        "id": "LN0Q4F8ZcYlZ"
      },
      "outputs": [],
      "source": [
        "anomaly_df = pd.read_csv('sensor_E_private.csv')\n",
        "abnormal_data = anomaly_df['telemetry'].tolist()\n",
        "abnormal_data = np.array(abnormal_data)\n",
        "\n",
        "test_anomaly_dataset, _, _ = create_dataset_e(abnormal_data)"
      ]
    },
    {
      "cell_type": "code",
      "execution_count": null,
      "metadata": {
        "colab": {
          "base_uri": "https://localhost:8080/"
        },
        "id": "jLI3d41qcYlZ",
        "outputId": "61352325-76c8-4227-89da-ae1eb92afa19"
      },
      "outputs": [
        {
          "data": {
            "text/plain": [
              "4000"
            ]
          },
          "execution_count": 75,
          "metadata": {},
          "output_type": "execute_result"
        }
      ],
      "source": [
        "privatee, _ = test(\n",
        "  modelE_orig,\n",
        "  test_anomaly_dataset\n",
        ")\n",
        "len(privatee)"
      ]
    },
    {
      "cell_type": "markdown",
      "metadata": {
        "id": "N7IoZI40B34L"
      },
      "source": [
        "# Save model"
      ]
    },
    {
      "cell_type": "code",
      "execution_count": null,
      "metadata": {
        "id": "-vDObnA9HtxL"
      },
      "outputs": [],
      "source": [
        "id = 0\n",
        "with open('output.csv', 'w', newline='') as csvfile:\n",
        "  writer = csv.writer(csvfile)\n",
        "  writer.writerow(['id', 'pred'])\n",
        "  for c in publica:\n",
        "    writer.writerow([str(id), str(c)])\n",
        "    id+=1\n",
        "    \n",
        "  for c in publicb:\n",
        "    writer.writerow([str(id), str(c)])\n",
        "    id+=1\n",
        "  for c in publicc:\n",
        "    writer.writerow([str(id), str(c)])\n",
        "    id+=1\n",
        "  for c in publicd:\n",
        "    writer.writerow([str(id), str(c)])\n",
        "    id+=1\n",
        "  for c in publice:\n",
        "    writer.writerow([str(id), str(c)])\n",
        "    id+=1\n",
        "  for c in privatea:\n",
        "    writer.writerow([str(id), str(c)])\n",
        "    id+=1\n",
        "  for c in privateb:\n",
        "    writer.writerow([str(id), str(c)])\n",
        "    id+=1\n",
        "  for c in privatec:\n",
        "    writer.writerow([str(id), str(c)])\n",
        "    id+=1\n",
        "  for c in privated:\n",
        "    writer.writerow([str(id), str(c)])\n",
        "    id+=1\n",
        "  for c in privatee:\n",
        "    writer.writerow([str(id), str(c)])\n",
        "    id+=1"
      ]
    },
    {
      "cell_type": "code",
      "execution_count": null,
      "metadata": {
        "id": "0rvQks2V5U5f"
      },
      "outputs": [],
      "source": []
    }
  ],
  "metadata": {
    "accelerator": "GPU",
    "colab": {
      "collapsed_sections": [
        "aGpmVhFVLyVh",
        "7H9ots04cQrf",
        "ze7plo3ZcYCZ"
      ],
      "name": "0710749_CCHW3_v3.ipynb",
      "provenance": []
    },
    "kernelspec": {
      "display_name": "Python 3",
      "name": "python3"
    },
    "language_info": {
      "name": "python"
    }
  },
  "nbformat": 4,
  "nbformat_minor": 0
}
